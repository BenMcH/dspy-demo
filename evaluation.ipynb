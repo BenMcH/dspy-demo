{
 "cells": [
  {
   "cell_type": "code",
   "execution_count": 20,
   "id": "04d23931",
   "metadata": {},
   "outputs": [],
   "source": [
    "import dspy\n",
    "import os\n",
    "\n",
    "openrouter = dspy.LM(\"openrouter/meta-llama/llama-3.1-8b-instruct\",\n",
    "                     cache=False, api_key=os.getenv(\"OPENROUTER_API_KEY\"))\n",
    "dspy.configure(lm=openrouter)"
   ]
  },
  {
   "cell_type": "code",
   "execution_count": 2,
   "id": "af4be725",
   "metadata": {},
   "outputs": [
    {
     "data": {
      "text/plain": [
       "<phoenix.otel.otel.TracerProvider at 0x7f92849e12b0>"
      ]
     },
     "execution_count": 2,
     "metadata": {},
     "output_type": "execute_result"
    }
   ],
   "source": [
    "from phoenix.otel import register\n",
    "\n",
    "register(\n",
    "\tproject_name=\"dspy-evals\",\n",
    "\tendpoint=\"http://localhost:6006/v1/traces\",\n",
    "\tverbose=False,\n",
    "    auto_instrument=True\n",
    ")\n"
   ]
  },
  {
   "cell_type": "markdown",
   "id": "736b062d",
   "metadata": {},
   "source": [
    "# Evaluation and Optimization\n",
    "\n",
    "DSPy provides the ability to run evaluations out of the box. Evaluations give us the ability to quantitatively measure the success of our AI programs. DSPy also provides optimizers that can be used alongside evaluations to automatically improve the performance of our AI programs."
   ]
  },
  {
   "cell_type": "code",
   "execution_count": 3,
   "id": "07b41c82",
   "metadata": {},
   "outputs": [
    {
     "data": {
      "text/html": [
       "<div>\n",
       "<style scoped>\n",
       "    .dataframe tbody tr th:only-of-type {\n",
       "        vertical-align: middle;\n",
       "    }\n",
       "\n",
       "    .dataframe tbody tr th {\n",
       "        vertical-align: top;\n",
       "    }\n",
       "\n",
       "    .dataframe thead th {\n",
       "        text-align: right;\n",
       "    }\n",
       "</style>\n",
       "<table border=\"1\" class=\"dataframe\">\n",
       "  <thead>\n",
       "    <tr style=\"text-align: right;\">\n",
       "      <th></th>\n",
       "      <th>customer_utterance</th>\n",
       "      <th>intent</th>\n",
       "      <th>ticket_category</th>\n",
       "    </tr>\n",
       "  </thead>\n",
       "  <tbody>\n",
       "    <tr>\n",
       "      <th>0</th>\n",
       "      <td>would it be possible to cancel the order I made?</td>\n",
       "      <td>cancel_order</td>\n",
       "      <td>ORDER</td>\n",
       "    </tr>\n",
       "    <tr>\n",
       "      <th>1</th>\n",
       "      <td>cancelling order</td>\n",
       "      <td>cancel_order</td>\n",
       "      <td>ORDER</td>\n",
       "    </tr>\n",
       "    <tr>\n",
       "      <th>2</th>\n",
       "      <td>I need assistance canceling the last order I h...</td>\n",
       "      <td>cancel_order</td>\n",
       "      <td>ORDER</td>\n",
       "    </tr>\n",
       "    <tr>\n",
       "      <th>3</th>\n",
       "      <td>problem with canceling the order I made</td>\n",
       "      <td>cancel_order</td>\n",
       "      <td>ORDER</td>\n",
       "    </tr>\n",
       "    <tr>\n",
       "      <th>4</th>\n",
       "      <td>I don't know how to cancel the order I made</td>\n",
       "      <td>cancel_order</td>\n",
       "      <td>ORDER</td>\n",
       "    </tr>\n",
       "    <tr>\n",
       "      <th>...</th>\n",
       "      <td>...</td>\n",
       "      <td>...</td>\n",
       "      <td>...</td>\n",
       "    </tr>\n",
       "    <tr>\n",
       "      <th>6534</th>\n",
       "      <td>I do not know what I have to do to track the r...</td>\n",
       "      <td>track_refund</td>\n",
       "      <td>REFUND</td>\n",
       "    </tr>\n",
       "    <tr>\n",
       "      <th>6535</th>\n",
       "      <td>check refund status</td>\n",
       "      <td>track_refund</td>\n",
       "      <td>REFUND</td>\n",
       "    </tr>\n",
       "    <tr>\n",
       "      <th>6536</th>\n",
       "      <td>help me check the refund status</td>\n",
       "      <td>track_refund</td>\n",
       "      <td>REFUND</td>\n",
       "    </tr>\n",
       "    <tr>\n",
       "      <th>6537</th>\n",
       "      <td>how can I check if there is any updates on my ...</td>\n",
       "      <td>track_refund</td>\n",
       "      <td>REFUND</td>\n",
       "    </tr>\n",
       "    <tr>\n",
       "      <th>6538</th>\n",
       "      <td>how do I check if there is anything wrong with...</td>\n",
       "      <td>track_refund</td>\n",
       "      <td>REFUND</td>\n",
       "    </tr>\n",
       "  </tbody>\n",
       "</table>\n",
       "<p>6539 rows × 3 columns</p>\n",
       "</div>"
      ],
      "text/plain": [
       "                                     customer_utterance        intent  \\\n",
       "0      would it be possible to cancel the order I made?  cancel_order   \n",
       "1                                      cancelling order  cancel_order   \n",
       "2     I need assistance canceling the last order I h...  cancel_order   \n",
       "3               problem with canceling the order I made  cancel_order   \n",
       "4           I don't know how to cancel the order I made  cancel_order   \n",
       "...                                                 ...           ...   \n",
       "6534  I do not know what I have to do to track the r...  track_refund   \n",
       "6535                                check refund status  track_refund   \n",
       "6536                    help me check the refund status  track_refund   \n",
       "6537  how can I check if there is any updates on my ...  track_refund   \n",
       "6538  how do I check if there is anything wrong with...  track_refund   \n",
       "\n",
       "     ticket_category  \n",
       "0              ORDER  \n",
       "1              ORDER  \n",
       "2              ORDER  \n",
       "3              ORDER  \n",
       "4              ORDER  \n",
       "...              ...  \n",
       "6534          REFUND  \n",
       "6535          REFUND  \n",
       "6536          REFUND  \n",
       "6537          REFUND  \n",
       "6538          REFUND  \n",
       "\n",
       "[6539 rows x 3 columns]"
      ]
     },
     "execution_count": 3,
     "metadata": {},
     "output_type": "execute_result"
    }
   ],
   "source": [
    "import pandas as pd\n",
    "\n",
    "df = pd.read_csv(\"Bitext_Sample_Customer_Service_Training_Dataset.csv\")\n",
    "df.drop(columns=[\"tags\"], inplace=True)\n",
    "df.rename(columns={\n",
    "    \"utterance\": \"customer_utterance\",\n",
    "    \"category\": \"ticket_category\",\n",
    "}, inplace=True)\n",
    "\n",
    "df\n"
   ]
  },
  {
   "cell_type": "code",
   "execution_count": 4,
   "id": "aced8ec6",
   "metadata": {},
   "outputs": [
    {
     "data": {
      "text/plain": [
       "['ACCOUNT',\n",
       " 'CANCELLATION_FEE',\n",
       " 'CONTACT',\n",
       " 'DELIVERY',\n",
       " 'FEEDBACK',\n",
       " 'INVOICE',\n",
       " 'NEWSLETTER',\n",
       " 'ORDER',\n",
       " 'PAYMENT',\n",
       " 'REFUND',\n",
       " 'SHIPPING_ADDRESS']"
      ]
     },
     "execution_count": 4,
     "metadata": {},
     "output_type": "execute_result"
    }
   ],
   "source": [
    "sorted(df[\"ticket_category\"].unique())"
   ]
  },
  {
   "cell_type": "code",
   "execution_count": 18,
   "id": "5a5db3c9",
   "metadata": {},
   "outputs": [],
   "source": [
    "import dspy\n",
    "from typing import Literal\n",
    "\n",
    "TicketCategory = Literal[\n",
    "    'ACCOUNT',\n",
    "    'CANCELLATION_FEE',\n",
    "    'CONTACT',\n",
    "    'DELIVERY',\n",
    "    'FEEDBACK',\n",
    "    'INVOICE',\n",
    "    'NEWSLETTER',\n",
    "    'ORDER',\n",
    "    'PAYMENT',\n",
    "    'REFUND',\n",
    "    'SHIPPING_ADDRESS'\n",
    "]\n",
    "\n",
    "class SupportCaseRouter(dspy.Signature):\n",
    "\tcustomer_utterance: str = dspy.InputField()\n",
    "\tticket_category: TicketCategory = dspy.OutputField()\n",
    "\n",
    "predictor = dspy.Predict(SupportCaseRouter)"
   ]
  },
  {
   "cell_type": "code",
   "execution_count": 6,
   "id": "85f7695b",
   "metadata": {},
   "outputs": [],
   "source": [
    "TRAIN_SIZE = 10\n",
    "TEST_SIZE = 5\n",
    "\n",
    "def sampled_categories(df, n):\n",
    "    indices = []\n",
    "    for _, group in df.groupby([\"ticket_category\", \"intent\"]):\n",
    "        indices.extend(group.sample(n=n).index)\n",
    "\n",
    "    data = df.loc[indices].to_dict(orient=\"records\")\n",
    "    df = df.drop(indices)\n",
    "    return data, df\n",
    "\n",
    "train, df = sampled_categories(df, TRAIN_SIZE)\n",
    "test, df = sampled_categories(df, TEST_SIZE)\n",
    "\n",
    "train_examples = [dspy.Example(**x).with_inputs(\"customer_utterance\") for x in train]\n",
    "test_examples = [dspy.Example(**x).with_inputs(\"customer_utterance\") for x in test]"
   ]
  },
  {
   "cell_type": "code",
   "execution_count": 21,
   "id": "77c2aafe",
   "metadata": {},
   "outputs": [
    {
     "name": "stdout",
     "output_type": "stream",
     "text": [
      "Average Metric: 117.00 / 135 (86.7%): 100%|██████████| 135/135 [00:18<00:00,  7.18it/s]"
     ]
    },
    {
     "name": "stderr",
     "output_type": "stream",
     "text": [
      "2025/08/06 22:03:43 INFO dspy.evaluate.evaluate: Average Metric: 117 / 135 (86.7%)\n"
     ]
    },
    {
     "name": "stdout",
     "output_type": "stream",
     "text": [
      "\n"
     ]
    },
    {
     "data": {
      "text/html": [
       "<div>\n",
       "<style scoped>\n",
       "    .dataframe tbody tr th:only-of-type {\n",
       "        vertical-align: middle;\n",
       "    }\n",
       "\n",
       "    .dataframe tbody tr th {\n",
       "        vertical-align: top;\n",
       "    }\n",
       "\n",
       "    .dataframe thead th {\n",
       "        text-align: right;\n",
       "    }\n",
       "</style>\n",
       "<table border=\"1\" class=\"dataframe\">\n",
       "  <thead>\n",
       "    <tr style=\"text-align: right;\">\n",
       "      <th></th>\n",
       "      <th>customer_utterance</th>\n",
       "      <th>intent</th>\n",
       "      <th>example_ticket_category</th>\n",
       "      <th>pred_ticket_category</th>\n",
       "      <th>evaluate_accuracy</th>\n",
       "    </tr>\n",
       "  </thead>\n",
       "  <tbody>\n",
       "    <tr>\n",
       "      <th>0</th>\n",
       "      <td>what do i need to do to create an account</td>\n",
       "      <td>create_account</td>\n",
       "      <td>ACCOUNT</td>\n",
       "      <td>ACCOUNT</td>\n",
       "      <td>✔️ [True]</td>\n",
       "    </tr>\n",
       "    <tr>\n",
       "      <th>1</th>\n",
       "      <td>can you help me open a new online account for my husband?</td>\n",
       "      <td>create_account</td>\n",
       "      <td>ACCOUNT</td>\n",
       "      <td>ACCOUNT</td>\n",
       "      <td>✔️ [True]</td>\n",
       "    </tr>\n",
       "    <tr>\n",
       "      <th>2</th>\n",
       "      <td>i dont have a bloody account i want assistance tp sign up</td>\n",
       "      <td>create_account</td>\n",
       "      <td>ACCOUNT</td>\n",
       "      <td>ACCOUNT</td>\n",
       "      <td>✔️ [True]</td>\n",
       "    </tr>\n",
       "    <tr>\n",
       "      <th>3</th>\n",
       "      <td>help me to create an account</td>\n",
       "      <td>create_account</td>\n",
       "      <td>ACCOUNT</td>\n",
       "      <td>ACCOUNT</td>\n",
       "      <td>✔️ [True]</td>\n",
       "    </tr>\n",
       "    <tr>\n",
       "      <th>4</th>\n",
       "      <td>could I create an account?</td>\n",
       "      <td>create_account</td>\n",
       "      <td>ACCOUNT</td>\n",
       "      <td>ACCOUNT</td>\n",
       "      <td>✔️ [True]</td>\n",
       "    </tr>\n",
       "    <tr>\n",
       "      <th>...</th>\n",
       "      <td>...</td>\n",
       "      <td>...</td>\n",
       "      <td>...</td>\n",
       "      <td>...</td>\n",
       "      <td>...</td>\n",
       "    </tr>\n",
       "    <tr>\n",
       "      <th>130</th>\n",
       "      <td>can you help me set another shipping address up?</td>\n",
       "      <td>set_up_shipping_address</td>\n",
       "      <td>SHIPPING_ADDRESS</td>\n",
       "      <td>SHIPPING_ADDRESS</td>\n",
       "      <td>✔️ [True]</td>\n",
       "    </tr>\n",
       "    <tr>\n",
       "      <th>131</th>\n",
       "      <td>I try to set up a different shipping address</td>\n",
       "      <td>set_up_shipping_address</td>\n",
       "      <td>SHIPPING_ADDRESS</td>\n",
       "      <td>SHIPPING_ADDRESS</td>\n",
       "      <td>✔️ [True]</td>\n",
       "    </tr>\n",
       "    <tr>\n",
       "      <th>132</th>\n",
       "      <td>set new shipping address up</td>\n",
       "      <td>set_up_shipping_address</td>\n",
       "      <td>SHIPPING_ADDRESS</td>\n",
       "      <td>SHIPPING_ADDRESS</td>\n",
       "      <td>✔️ [True]</td>\n",
       "    </tr>\n",
       "    <tr>\n",
       "      <th>133</th>\n",
       "      <td>I have to set up a new shipping address</td>\n",
       "      <td>set_up_shipping_address</td>\n",
       "      <td>SHIPPING_ADDRESS</td>\n",
       "      <td>SHIPPING_ADDRESS</td>\n",
       "      <td>✔️ [True]</td>\n",
       "    </tr>\n",
       "    <tr>\n",
       "      <th>134</th>\n",
       "      <td>the new shipping address isn't valid</td>\n",
       "      <td>set_up_shipping_address</td>\n",
       "      <td>SHIPPING_ADDRESS</td>\n",
       "      <td>SHIPPING_ADDRESS</td>\n",
       "      <td>✔️ [True]</td>\n",
       "    </tr>\n",
       "  </tbody>\n",
       "</table>\n",
       "<p>135 rows × 5 columns</p>\n",
       "</div>"
      ],
      "text/plain": [
       "                                            customer_utterance  \\\n",
       "0                    what do i need to do to create an account   \n",
       "1    can you help me open a new online account for my husband?   \n",
       "2    i dont have a bloody account i want assistance tp sign up   \n",
       "3                                 help me to create an account   \n",
       "4                                   could I create an account?   \n",
       "..                                                         ...   \n",
       "130           can you help me set another shipping address up?   \n",
       "131               I try to set up a different shipping address   \n",
       "132                                set new shipping address up   \n",
       "133                    I have to set up a new shipping address   \n",
       "134                       the new shipping address isn't valid   \n",
       "\n",
       "                      intent example_ticket_category pred_ticket_category  \\\n",
       "0             create_account                 ACCOUNT              ACCOUNT   \n",
       "1             create_account                 ACCOUNT              ACCOUNT   \n",
       "2             create_account                 ACCOUNT              ACCOUNT   \n",
       "3             create_account                 ACCOUNT              ACCOUNT   \n",
       "4             create_account                 ACCOUNT              ACCOUNT   \n",
       "..                       ...                     ...                  ...   \n",
       "130  set_up_shipping_address        SHIPPING_ADDRESS     SHIPPING_ADDRESS   \n",
       "131  set_up_shipping_address        SHIPPING_ADDRESS     SHIPPING_ADDRESS   \n",
       "132  set_up_shipping_address        SHIPPING_ADDRESS     SHIPPING_ADDRESS   \n",
       "133  set_up_shipping_address        SHIPPING_ADDRESS     SHIPPING_ADDRESS   \n",
       "134  set_up_shipping_address        SHIPPING_ADDRESS     SHIPPING_ADDRESS   \n",
       "\n",
       "    evaluate_accuracy  \n",
       "0           ✔️ [True]  \n",
       "1           ✔️ [True]  \n",
       "2           ✔️ [True]  \n",
       "3           ✔️ [True]  \n",
       "4           ✔️ [True]  \n",
       "..                ...  \n",
       "130         ✔️ [True]  \n",
       "131         ✔️ [True]  \n",
       "132         ✔️ [True]  \n",
       "133         ✔️ [True]  \n",
       "134         ✔️ [True]  \n",
       "\n",
       "[135 rows x 5 columns]"
      ]
     },
     "metadata": {},
     "output_type": "display_data"
    }
   ],
   "source": [
    "def evaluate_accuracy(example, predicted, trace=None):\n",
    "    return example.ticket_category == predicted.ticket_category\n",
    "\n",
    "evaluate = dspy.Evaluate(devset=test_examples, metric=evaluate_accuracy, display_table=True, display_progress=True)\n",
    "\n",
    "ans = evaluate(predictor, return_outputs=True)\n"
   ]
  },
  {
   "cell_type": "code",
   "execution_count": 23,
   "id": "b181ec24",
   "metadata": {},
   "outputs": [
    {
     "name": "stderr",
     "output_type": "stream",
     "text": [
      "2025/08/06 22:09:12 INFO dspy.teleprompt.simba: Starting batch 1 of 4.\n",
      "2025/08/06 22:09:22 INFO dspy.teleprompt.simba: Sampling program trajectories on 32 examples x 6 samples.\n"
     ]
    },
    {
     "name": "stdout",
     "output_type": "stream",
     "text": [
      "Processed 192 / 192 examples: 100%|██████████| 192/192 [00:17<00:00, 11.09it/s]"
     ]
    },
    {
     "name": "stderr",
     "output_type": "stream",
     "text": [
      "2025/08/06 22:09:39 INFO dspy.teleprompt.simba: Batch 1: Baseline mini-batch score: 0.71875\n",
      "\n",
      "2025/08/06 22:09:39 INFO dspy.teleprompt.simba: Batch 1: Processing bucket #1, with max score 1.0, max-to-min gap 1.0, and max-to-avg gap 0.8333333333333334.\n",
      "2025/08/06 22:09:39 INFO dspy.teleprompt.simba: Batch 1: Invoking strategy: append_a_demo_\n",
      "2025/08/06 22:09:39 INFO dspy.teleprompt.simba_utils: Added 1 demos (one each) across all predictors.\n",
      "2025/08/06 22:09:39 INFO dspy.teleprompt.simba: \n",
      "\n",
      "2025/08/06 22:09:39 INFO dspy.teleprompt.simba: Batch 1: Processing bucket #2, with max score 1.0, max-to-min gap 1.0, and max-to-avg gap 0.8333333333333334.\n",
      "2025/08/06 22:09:39 INFO dspy.teleprompt.simba: Batch 1: Invoking strategy: append_a_demo_\n",
      "2025/08/06 22:09:39 INFO dspy.teleprompt.simba_utils: Added 1 demos (one each) across all predictors.\n",
      "2025/08/06 22:09:39 INFO dspy.teleprompt.simba: \n",
      "\n",
      "2025/08/06 22:09:39 INFO dspy.teleprompt.simba: Batch 1: Processing bucket #3, with max score 1.0, max-to-min gap 1.0, and max-to-avg gap 0.8333333333333334.\n",
      "2025/08/06 22:09:39 INFO dspy.teleprompt.simba: Batch 1: Invoking strategy: append_a_rule\n"
     ]
    },
    {
     "name": "stdout",
     "output_type": "stream",
     "text": [
      "\n"
     ]
    },
    {
     "name": "stderr",
     "output_type": "stream",
     "text": [
      "2025/08/06 22:09:43 INFO dspy.teleprompt.simba_utils: Advice for self: When processing the 'customer_utterance' input, consider using more robust natural language processing techniques to handle typos and unclear language. This may involve using techniques such as spell correction, sentiment analysis, or intent detection to better understand the customer's intent. Additionally, consider using more specific and targeted keywords to improve the accuracy of the ticket category classification.\n",
      "2025/08/06 22:09:43 INFO dspy.teleprompt.simba: \n",
      "\n",
      "2025/08/06 22:09:43 INFO dspy.teleprompt.simba: Batch 1: Processing bucket #4, with max score 1.0, max-to-min gap 1.0, and max-to-avg gap 0.33333333333333337.\n",
      "2025/08/06 22:09:43 INFO dspy.teleprompt.simba: Batch 1: Invoking strategy: append_a_rule\n",
      "2025/08/06 22:09:46 INFO dspy.teleprompt.simba_utils: Advice for self: When processing customer utterances, pay closer attention to language related to account creation, such as 'create account', 'user account', or 'account setup'. This may involve using more advanced natural language processing techniques, such as named entity recognition or intent detection, to better understand the customer's intent.\n",
      "2025/08/06 22:09:46 INFO dspy.teleprompt.simba: \n",
      "\n",
      "2025/08/06 22:09:46 INFO dspy.teleprompt.simba: Batch 1: Processing bucket #5, with max score 1.0, max-to-min gap 1.0, and max-to-avg gap 0.16666666666666663.\n",
      "2025/08/06 22:09:46 INFO dspy.teleprompt.simba: Batch 1: Invoking strategy: append_a_rule\n",
      "2025/08/06 22:09:49 INFO dspy.teleprompt.simba_utils: Advice for self: When processing the customer's utterance, pay closer attention to keywords related to order cancellation, such as 'cancel', 'refund', or 'return'. This will help you correctly categorize the issue as an order-related issue, rather than a cancellation fee issue.\n",
      "2025/08/06 22:09:49 INFO dspy.teleprompt.simba: \n",
      "\n",
      "2025/08/06 22:09:49 INFO dspy.teleprompt.simba: Batch 1: Processing bucket #6, with max score 1.0, max-to-min gap 0.0, and max-to-avg gap 0.0.\n",
      "2025/08/06 22:09:49 INFO dspy.teleprompt.simba: Batch 1: Invoking strategy: append_a_demo_\n",
      "2025/08/06 22:09:49 INFO dspy.teleprompt.simba_utils: Added 1 demos (one each) across all predictors.\n",
      "2025/08/06 22:09:49 INFO dspy.teleprompt.simba: \n",
      "\n",
      "2025/08/06 22:09:49 INFO dspy.teleprompt.simba: Batch 1: Processing bucket #7, with max score 1.0, max-to-min gap 0.0, and max-to-avg gap 0.0.\n",
      "2025/08/06 22:09:50 INFO dspy.teleprompt.simba: Batch 1: Invoking strategy: append_a_demo_\n",
      "2025/08/06 22:09:50 INFO dspy.teleprompt.simba_utils: Added 1 demos (one each) across all predictors.\n",
      "2025/08/06 22:09:50 INFO dspy.teleprompt.simba: \n",
      "\n",
      "2025/08/06 22:09:50 INFO dspy.teleprompt.simba: Batch 1: Evaluating 7 programs on 32 examples.\n"
     ]
    },
    {
     "name": "stdout",
     "output_type": "stream",
     "text": [
      "Processed 224 / 224 examples: 100%|██████████| 224/224 [00:20<00:00, 10.68it/s]"
     ]
    },
    {
     "name": "stderr",
     "output_type": "stream",
     "text": [
      "2025/08/06 22:10:11 INFO dspy.teleprompt.simba: Scores after 1 batches: [0.75, 0.84375, 0.75, 0.84375, 0.71875, 0.84375, 0.78125], Best: 0.84375\n",
      "\n",
      "2025/08/06 22:10:11 INFO dspy.teleprompt.simba: Starting batch 2 of 4.\n"
     ]
    },
    {
     "name": "stdout",
     "output_type": "stream",
     "text": [
      "\n"
     ]
    },
    {
     "name": "stderr",
     "output_type": "stream",
     "text": [
      "2025/08/06 22:10:21 INFO dspy.teleprompt.simba: Sampling program trajectories on 32 examples x 6 samples.\n"
     ]
    },
    {
     "name": "stdout",
     "output_type": "stream",
     "text": [
      "Processed 187 / 192 examples:  97%|█████████▋| 186/192 [00:17<00:00, 10.42it/s]"
     ]
    },
    {
     "name": "stderr",
     "output_type": "stream",
     "text": [
      "2025/08/06 22:10:39 WARNING dspy.adapters.json_adapter: Failed to use structured output format, falling back to JSON mode.\n"
     ]
    },
    {
     "name": "stdout",
     "output_type": "stream",
     "text": [
      "Processed 192 / 192 examples: 100%|██████████| 192/192 [00:19<00:00,  9.96it/s]\n"
     ]
    },
    {
     "name": "stderr",
     "output_type": "stream",
     "text": [
      "2025/08/06 22:10:41 INFO dspy.teleprompt.simba: Batch 2: Baseline mini-batch score: 0.875\n",
      "\n",
      "2025/08/06 22:10:41 INFO dspy.teleprompt.simba: Batch 2: Processing bucket #1, with max score 1.0, max-to-min gap 1.0, and max-to-avg gap 0.8333333333333334.\n",
      "2025/08/06 22:10:41 INFO dspy.teleprompt.simba: Batch 2: Invoking strategy: append_a_rule\n",
      "2025/08/06 22:10:45 INFO dspy.teleprompt.simba_utils: Advice for self: When processing the input 'customer_utterance', the module should be more accurate in identifying the intent of the customer's utterance. It should be able to recognize that the customer is asking for help with recovering their password and map this intent to the correct ticket category, which is 'ACCOUNT'. To achieve this, the module can be fine-tuned on a larger dataset of customer utterances and their corresponding intents and ticket categories.\n",
      "2025/08/06 22:10:45 INFO dspy.teleprompt.simba: \n",
      "\n",
      "2025/08/06 22:10:45 INFO dspy.teleprompt.simba: Batch 2: Processing bucket #2, with max score 1.0, max-to-min gap 1.0, and max-to-avg gap 0.8333333333333334.\n",
      "2025/08/06 22:10:45 INFO dspy.teleprompt.simba: Batch 2: Invoking strategy: append_a_demo_\n",
      "2025/08/06 22:10:45 INFO dspy.teleprompt.simba_utils: Added 1 demos (one each) across all predictors.\n",
      "2025/08/06 22:10:45 INFO dspy.teleprompt.simba: \n",
      "\n",
      "2025/08/06 22:10:45 INFO dspy.teleprompt.simba: Batch 2: Processing bucket #3, with max score 1.0, max-to-min gap 1.0, and max-to-avg gap 0.6666666666666667.\n",
      "2025/08/06 22:10:45 INFO dspy.teleprompt.simba: Batch 2: Invoking strategy: append_a_rule\n",
      "2025/08/06 22:10:51 INFO dspy.teleprompt.simba_utils: Advice for self: If the module receives a customer utterance that mentions 'new profile', it should consider the context of the conversation and the customer's intent. In this case, the customer is likely seeking assistance with setting up or using their new profile, which falls under the 'ACCOUNT' category. The module should be more careful in its analysis and avoid over-relying on specific keywords or patterns in the input.\n",
      "2025/08/06 22:10:51 INFO dspy.teleprompt.simba: \n",
      "\n",
      "2025/08/06 22:10:51 INFO dspy.teleprompt.simba: Batch 2: Processing bucket #4, with max score 1.0, max-to-min gap 1.0, and max-to-avg gap 0.5.\n",
      "2025/08/06 22:10:51 INFO dspy.teleprompt.simba: Batch 2: Invoking strategy: append_a_demo_\n",
      "2025/08/06 22:10:51 INFO dspy.teleprompt.simba_utils: Added 1 demos (one each) across all predictors.\n",
      "2025/08/06 22:10:51 INFO dspy.teleprompt.simba: \n",
      "\n",
      "2025/08/06 22:10:51 INFO dspy.teleprompt.simba: Batch 2: Processing bucket #5, with max score 1.0, max-to-min gap 1.0, and max-to-avg gap 0.16666666666666663.\n",
      "2025/08/06 22:10:51 INFO dspy.teleprompt.simba: Batch 2: Invoking strategy: append_a_demo_\n",
      "2025/08/06 22:10:51 INFO dspy.teleprompt.simba_utils: Added 1 demos (one each) across all predictors.\n",
      "2025/08/06 22:10:51 INFO dspy.teleprompt.simba: \n",
      "\n",
      "2025/08/06 22:10:51 INFO dspy.teleprompt.simba: Batch 2: Processing bucket #6, with max score 1.0, max-to-min gap 0.0, and max-to-avg gap 0.0.\n",
      "2025/08/06 22:10:51 INFO dspy.teleprompt.simba: Batch 2: Invoking strategy: append_a_rule, having dropped 1 demos per predictor\n",
      "2025/08/06 22:10:55 INFO dspy.teleprompt.simba_utils: Advice for self: When processing the customer's utterance, consider using more advanced natural language processing techniques, such as named entity recognition or part-of-speech tagging, to better understand the context and intent behind the customer's request. Additionally, ensure that the model is properly trained on a diverse range of customer utterances to improve its ability to generalize to new and unseen inputs.\n",
      "2025/08/06 22:10:55 INFO dspy.teleprompt.simba: \n",
      "\n",
      "2025/08/06 22:10:55 INFO dspy.teleprompt.simba: Batch 2: Processing bucket #7, with max score 1.0, max-to-min gap 0.0, and max-to-avg gap 0.0.\n",
      "2025/08/06 22:10:55 INFO dspy.teleprompt.simba: Batch 2: Invoking strategy: append_a_rule\n",
      "2025/08/06 22:11:01 INFO dspy.teleprompt.simba_utils: Advice for self: When processing customer utterances, pay closer attention to language related to account creation, such as 'create account', 'user account', or 'account setup'. This may involve using more advanced natural language processing techniques, such as named entity recognition or intent detection, to better understand the customer's intent.\n",
      "2025/08/06 22:11:01 INFO dspy.teleprompt.simba: \n",
      "\n",
      "2025/08/06 22:11:01 INFO dspy.teleprompt.simba: Batch 2: Evaluating 7 programs on 32 examples.\n"
     ]
    },
    {
     "name": "stdout",
     "output_type": "stream",
     "text": [
      "Processed 224 / 224 examples: 100%|██████████| 224/224 [00:23<00:00,  9.50it/s]"
     ]
    },
    {
     "name": "stderr",
     "output_type": "stream",
     "text": [
      "2025/08/06 22:11:25 INFO dspy.teleprompt.simba: Scores after 2 batches: [0.9375, 0.90625, 0.9375, 0.9375, 0.90625, 0.875, 0.90625], Best: 0.9375\n",
      "\n",
      "2025/08/06 22:11:25 INFO dspy.teleprompt.simba: Starting batch 3 of 4.\n"
     ]
    },
    {
     "name": "stdout",
     "output_type": "stream",
     "text": [
      "\n"
     ]
    },
    {
     "name": "stderr",
     "output_type": "stream",
     "text": [
      "2025/08/06 22:11:37 INFO dspy.teleprompt.simba: Sampling program trajectories on 32 examples x 6 samples.\n"
     ]
    },
    {
     "name": "stdout",
     "output_type": "stream",
     "text": [
      "Processed 192 / 192 examples: 100%|██████████| 192/192 [00:19<00:00,  9.63it/s]"
     ]
    },
    {
     "name": "stderr",
     "output_type": "stream",
     "text": [
      "2025/08/06 22:11:58 INFO dspy.teleprompt.simba: Batch 3: Baseline mini-batch score: 0.8697916666666666\n",
      "\n"
     ]
    },
    {
     "name": "stdout",
     "output_type": "stream",
     "text": [
      "\n"
     ]
    },
    {
     "name": "stderr",
     "output_type": "stream",
     "text": [
      "2025/08/06 22:11:58 INFO dspy.teleprompt.simba: Batch 3: Processing bucket #1, with max score 1.0, max-to-min gap 1.0, and max-to-avg gap 0.8333333333333334.\n",
      "2025/08/06 22:11:58 INFO dspy.teleprompt.simba: Batch 3: Invoking strategy: append_a_demo_\n",
      "2025/08/06 22:11:58 INFO dspy.teleprompt.simba_utils: Added 1 demos (one each) across all predictors.\n",
      "2025/08/06 22:11:58 INFO dspy.teleprompt.simba: \n",
      "\n",
      "2025/08/06 22:11:58 INFO dspy.teleprompt.simba: Batch 3: Processing bucket #2, with max score 1.0, max-to-min gap 1.0, and max-to-avg gap 0.6666666666666667.\n",
      "2025/08/06 22:11:58 INFO dspy.teleprompt.simba: Batch 3: Invoking strategy: append_a_rule\n",
      "2025/08/06 22:12:03 INFO dspy.teleprompt.simba_utils: Advice for self: When processing the input 'customer_utterance', the module should be more accurate in identifying the intent of the customer's utterance. It should be able to recognize that the customer is asking for help with recovering their password and map this intent to the correct ticket category, which is 'ACCOUNT'. To achieve this, the module can be fine-tuned on a larger dataset of customer utterances and their corresponding intents and ticket categories.\n",
      "2025/08/06 22:12:03 INFO dspy.teleprompt.simba: \n",
      "\n",
      "2025/08/06 22:12:03 INFO dspy.teleprompt.simba: Batch 3: Processing bucket #3, with max score 1.0, max-to-min gap 1.0, and max-to-avg gap 0.6666666666666667.\n",
      "2025/08/06 22:12:03 INFO dspy.teleprompt.simba: Batch 3: Invoking strategy: append_a_rule\n",
      "2025/08/06 22:12:05 INFO dspy.teleprompt.simba_utils: Advice for self: When processing the input 'customer_utterance', the module should be more accurate in identifying the intent of the customer's utterance. It should be able to recognize that the customer is asking for help with a consumer claim and map this intent to the correct ticket category, which is 'FEEDBACK'. To achieve this, the module can be fine-tuned on a larger dataset of customer utterances and their corresponding intents and ticket categories.\n",
      "2025/08/06 22:12:05 INFO dspy.teleprompt.simba: \n",
      "\n",
      "2025/08/06 22:12:05 INFO dspy.teleprompt.simba: Batch 3: Processing bucket #4, with max score 1.0, max-to-min gap 0.0, and max-to-avg gap 0.0.\n",
      "2025/08/06 22:12:05 INFO dspy.teleprompt.simba: Batch 3: Invoking strategy: append_a_demo_, having dropped 1 demos per predictor\n",
      "2025/08/06 22:12:05 INFO dspy.teleprompt.simba_utils: Added 1 demos (one each) across all predictors.\n",
      "2025/08/06 22:12:05 INFO dspy.teleprompt.simba: \n",
      "\n",
      "2025/08/06 22:12:05 INFO dspy.teleprompt.simba: Batch 3: Processing bucket #5, with max score 1.0, max-to-min gap 0.0, and max-to-avg gap 0.0.\n",
      "2025/08/06 22:12:05 INFO dspy.teleprompt.simba: Batch 3: Invoking strategy: append_a_demo_\n",
      "2025/08/06 22:12:05 INFO dspy.teleprompt.simba_utils: Added 1 demos (one each) across all predictors.\n",
      "2025/08/06 22:12:05 INFO dspy.teleprompt.simba: \n",
      "\n",
      "2025/08/06 22:12:05 INFO dspy.teleprompt.simba: Batch 3: Processing bucket #6, with max score 1.0, max-to-min gap 0.0, and max-to-avg gap 0.0.\n",
      "2025/08/06 22:12:05 INFO dspy.teleprompt.simba: Batch 3: Invoking strategy: append_a_rule, having dropped 1 demos per predictor\n",
      "2025/08/06 22:12:09 INFO dspy.teleprompt.simba_utils: Advice for self: When processing the input 'customer_utterance', the module should be more accurate in identifying the intent of the customer's utterance. It should be able to recognize that the customer is asking for help with recovering their password and map this intent to the correct ticket category, which is 'ACCOUNT'. To achieve this, the module can be fine-tuned on a larger dataset of customer utterances and their corresponding intents and ticket categories.\n",
      "2025/08/06 22:12:09 INFO dspy.teleprompt.simba: \n",
      "\n",
      "2025/08/06 22:12:09 INFO dspy.teleprompt.simba: Batch 3: Processing bucket #7, with max score 1.0, max-to-min gap 0.0, and max-to-avg gap 0.0.\n",
      "2025/08/06 22:12:10 INFO dspy.teleprompt.simba: Batch 3: Invoking strategy: append_a_rule\n",
      "2025/08/06 22:12:17 INFO dspy.teleprompt.simba_utils: Advice for self: If the module receives a customer utterance that mentions 'new profile', it should consider the context of the conversation and the customer's intent. In this case, the customer is likely seeking assistance with setting up or using their new profile, which falls under the 'ACCOUNT' category. The module should be more careful in its analysis and avoid over-relying on specific keywords or patterns in the input.\n",
      "2025/08/06 22:12:17 INFO dspy.teleprompt.simba: \n",
      "\n",
      "2025/08/06 22:12:17 INFO dspy.teleprompt.simba: Batch 3: Evaluating 7 programs on 32 examples.\n"
     ]
    },
    {
     "name": "stdout",
     "output_type": "stream",
     "text": [
      "Processed 224 / 224 examples: 100%|██████████| 224/224 [00:21<00:00, 10.42it/s]"
     ]
    },
    {
     "name": "stderr",
     "output_type": "stream",
     "text": [
      "2025/08/06 22:12:39 INFO dspy.teleprompt.simba: Scores after 3 batches: [0.9375, 0.84375, 0.96875, 0.84375, 0.90625, 0.875, 0.875], Best: 0.96875\n",
      "\n",
      "2025/08/06 22:12:39 INFO dspy.teleprompt.simba: Starting batch 4 of 4.\n"
     ]
    },
    {
     "name": "stdout",
     "output_type": "stream",
     "text": [
      "\n"
     ]
    },
    {
     "name": "stderr",
     "output_type": "stream",
     "text": [
      "2025/08/06 22:12:51 INFO dspy.teleprompt.simba: Sampling program trajectories on 32 examples x 6 samples.\n"
     ]
    },
    {
     "name": "stdout",
     "output_type": "stream",
     "text": [
      "Processed 192 / 192 examples: 100%|██████████| 192/192 [00:20<00:00,  9.48it/s]\n"
     ]
    },
    {
     "name": "stderr",
     "output_type": "stream",
     "text": [
      "2025/08/06 22:13:11 INFO dspy.teleprompt.simba: Batch 4: Baseline mini-batch score: 0.9375\n",
      "\n",
      "2025/08/06 22:13:11 INFO dspy.teleprompt.simba: Batch 4: Processing bucket #1, with max score 1.0, max-to-min gap 1.0, and max-to-avg gap 0.8333333333333334.\n",
      "2025/08/06 22:13:11 INFO dspy.teleprompt.simba: Batch 4: Invoking strategy: append_a_demo_\n",
      "2025/08/06 22:13:11 INFO dspy.teleprompt.simba_utils: Added 1 demos (one each) across all predictors.\n",
      "2025/08/06 22:13:11 INFO dspy.teleprompt.simba: \n",
      "\n",
      "2025/08/06 22:13:11 INFO dspy.teleprompt.simba: Batch 4: Processing bucket #2, with max score 1.0, max-to-min gap 1.0, and max-to-avg gap 0.6666666666666667.\n",
      "2025/08/06 22:13:12 INFO dspy.teleprompt.simba: Batch 4: Invoking strategy: append_a_rule, having dropped 1 demos per predictor\n",
      "2025/08/06 22:13:15 INFO dspy.teleprompt.simba_utils: Advice for self: If the module receives a customer utterance that mentions 'new profile', it should consider the context of the conversation and the customer's intent. In this case, the customer is likely seeking assistance with setting up or using their new profile, which falls under the 'ACCOUNT' category. The module should be more careful in its analysis and avoid over-relying on specific keywords or patterns in the input.\n",
      "2025/08/06 22:13:15 INFO dspy.teleprompt.simba: \n",
      "\n",
      "2025/08/06 22:13:15 INFO dspy.teleprompt.simba: Batch 4: Processing bucket #3, with max score 1.0, max-to-min gap 1.0, and max-to-avg gap 0.16666666666666663.\n",
      "2025/08/06 22:13:15 INFO dspy.teleprompt.simba: Batch 4: Invoking strategy: append_a_rule\n",
      "2025/08/06 22:13:17 INFO dspy.teleprompt.simba_utils: Advice for self: When processing the input 'customer_utterance', the module should be more accurate in identifying the intent of the customer's utterance. It should be able to recognize that the customer is asking for help with recovering their password and map this intent to the correct ticket category, which is 'ACCOUNT'. To achieve this, the module can be fine-tuned on a larger dataset of customer utterances and their corresponding intents and ticket categories.\n",
      "2025/08/06 22:13:17 INFO dspy.teleprompt.simba: \n",
      "\n",
      "2025/08/06 22:13:17 INFO dspy.teleprompt.simba: Batch 4: Processing bucket #4, with max score 1.0, max-to-min gap 1.0, and max-to-avg gap 0.16666666666666663.\n",
      "2025/08/06 22:13:17 INFO dspy.teleprompt.simba: Batch 4: Invoking strategy: append_a_rule\n",
      "2025/08/06 22:13:21 INFO dspy.teleprompt.simba_utils: Advice for self: When processing the input 'customer_utterance', the module should be more accurate in identifying the intent of the customer's utterance. It should be able to recognize that the customer is asking about the delivery period and map this intent to the correct ticket category, which is 'DELIVERY'. To achieve this, the module can be fine-tuned on a larger dataset of customer utterances and their corresponding intents and ticket categories.\n",
      "2025/08/06 22:13:21 INFO dspy.teleprompt.simba: \n",
      "\n",
      "2025/08/06 22:13:21 INFO dspy.teleprompt.simba: Batch 4: Processing bucket #5, with max score 1.0, max-to-min gap 1.0, and max-to-avg gap 0.16666666666666663.\n",
      "2025/08/06 22:13:21 INFO dspy.teleprompt.simba: Batch 4: Invoking strategy: append_a_rule\n",
      "2025/08/06 22:13:25 INFO dspy.teleprompt.simba_utils: Advice for self: When processing customer utterances, pay closer attention to language related to account creation, such as 'create account', 'user account', or 'account setup'. This may involve using more advanced natural language processing techniques, such as named entity recognition or intent detection, to better understand the customer's intent. Specifically, when the customer utterance contains words like 'reporting', 'issues', or 'help', consider the possibility that the customer is experiencing problems with their account and adjust your output accordingly.\n",
      "2025/08/06 22:13:25 INFO dspy.teleprompt.simba: \n",
      "\n",
      "2025/08/06 22:13:25 INFO dspy.teleprompt.simba: Batch 4: Processing bucket #6, with max score 1.0, max-to-min gap 0.0, and max-to-avg gap 0.0.\n",
      "2025/08/06 22:13:25 INFO dspy.teleprompt.simba: Batch 4: Invoking strategy: append_a_demo_\n",
      "2025/08/06 22:13:25 INFO dspy.teleprompt.simba_utils: Added 1 demos (one each) across all predictors.\n",
      "2025/08/06 22:13:25 INFO dspy.teleprompt.simba: \n",
      "\n",
      "2025/08/06 22:13:25 INFO dspy.teleprompt.simba: Batch 4: Processing bucket #7, with max score 1.0, max-to-min gap 0.0, and max-to-avg gap 0.0.\n",
      "2025/08/06 22:13:26 INFO dspy.teleprompt.simba: Batch 4: Invoking strategy: append_a_rule\n",
      "2025/08/06 22:13:29 INFO dspy.teleprompt.simba_utils: Advice for self: When processing customer utterances, pay closer attention to language related to account creation, such as 'create account', 'user account', or 'account setup'. This may involve using more advanced natural language processing techniques, such as named entity recognition or intent detection, to better understand the customer's intent. Additionally, handle cases where the module fails to make a prediction, such as by returning a default value or raising an exception with a meaningful error message.\n",
      "2025/08/06 22:13:29 INFO dspy.teleprompt.simba: \n",
      "\n",
      "2025/08/06 22:13:29 INFO dspy.teleprompt.simba: Batch 4: Evaluating 7 programs on 32 examples.\n"
     ]
    },
    {
     "name": "stdout",
     "output_type": "stream",
     "text": [
      "Processed 224 / 224 examples: 100%|██████████| 224/224 [00:23<00:00,  9.34it/s]"
     ]
    },
    {
     "name": "stderr",
     "output_type": "stream",
     "text": [
      "2025/08/06 22:13:53 INFO dspy.teleprompt.simba: Scores after 4 batches: [1.0, 0.96875, 0.96875, 0.96875, 0.90625, 0.96875, 0.96875], Best: 1.0\n",
      "\n"
     ]
    },
    {
     "name": "stdout",
     "output_type": "stream",
     "text": [
      "\n"
     ]
    },
    {
     "name": "stderr",
     "output_type": "stream",
     "text": [
      "2025/08/06 22:13:54 INFO dspy.teleprompt.simba: VALIDATION: Evaluating 5 programs on the full trainset.\n"
     ]
    },
    {
     "name": "stdout",
     "output_type": "stream",
     "text": [
      "Processed 1350 / 1350 examples: 100%|██████████| 1350/1350 [02:05<00:00, 10.71it/s]"
     ]
    },
    {
     "name": "stderr",
     "output_type": "stream",
     "text": [
      "2025/08/06 22:16:00 INFO dspy.teleprompt.simba: Final trainset scores: [0.8444444444444444, 0.8740740740740741, 0.9259259259259259, 0.9703703703703703, 0.9481481481481482], Best: 0.9703703703703703 (at index 3)\n",
      "\n",
      "\n",
      "\n"
     ]
    },
    {
     "name": "stdout",
     "output_type": "stream",
     "text": [
      "\n"
     ]
    }
   ],
   "source": [
    "simba = dspy.SIMBA(metric=evaluate_accuracy, max_steps=4)\n",
    "\n",
    "compiled_simba = simba.compile(predictor, trainset=train_examples)"
   ]
  },
  {
   "cell_type": "code",
   "execution_count": 24,
   "id": "e3c74a6b",
   "metadata": {},
   "outputs": [
    {
     "name": "stdout",
     "output_type": "stream",
     "text": [
      "Average Metric: 130.00 / 135 (96.3%): 100%|██████████| 135/135 [00:12<00:00, 11.04it/s]"
     ]
    },
    {
     "name": "stderr",
     "output_type": "stream",
     "text": [
      "2025/08/06 22:16:19 INFO dspy.evaluate.evaluate: Average Metric: 130 / 135 (96.3%)\n"
     ]
    },
    {
     "name": "stdout",
     "output_type": "stream",
     "text": [
      "\n"
     ]
    },
    {
     "data": {
      "text/html": [
       "<div>\n",
       "<style scoped>\n",
       "    .dataframe tbody tr th:only-of-type {\n",
       "        vertical-align: middle;\n",
       "    }\n",
       "\n",
       "    .dataframe tbody tr th {\n",
       "        vertical-align: top;\n",
       "    }\n",
       "\n",
       "    .dataframe thead th {\n",
       "        text-align: right;\n",
       "    }\n",
       "</style>\n",
       "<table border=\"1\" class=\"dataframe\">\n",
       "  <thead>\n",
       "    <tr style=\"text-align: right;\">\n",
       "      <th></th>\n",
       "      <th>customer_utterance</th>\n",
       "      <th>intent</th>\n",
       "      <th>example_ticket_category</th>\n",
       "      <th>pred_ticket_category</th>\n",
       "      <th>evaluate_accuracy</th>\n",
       "    </tr>\n",
       "  </thead>\n",
       "  <tbody>\n",
       "    <tr>\n",
       "      <th>0</th>\n",
       "      <td>what do i need to do to create an account</td>\n",
       "      <td>create_account</td>\n",
       "      <td>ACCOUNT</td>\n",
       "      <td>ACCOUNT</td>\n",
       "      <td>✔️ [True]</td>\n",
       "    </tr>\n",
       "    <tr>\n",
       "      <th>1</th>\n",
       "      <td>can you help me open a new online account for my husband?</td>\n",
       "      <td>create_account</td>\n",
       "      <td>ACCOUNT</td>\n",
       "      <td>ACCOUNT</td>\n",
       "      <td>✔️ [True]</td>\n",
       "    </tr>\n",
       "    <tr>\n",
       "      <th>2</th>\n",
       "      <td>i dont have a bloody account i want assistance tp sign up</td>\n",
       "      <td>create_account</td>\n",
       "      <td>ACCOUNT</td>\n",
       "      <td>ACCOUNT</td>\n",
       "      <td>✔️ [True]</td>\n",
       "    </tr>\n",
       "    <tr>\n",
       "      <th>3</th>\n",
       "      <td>help me to create an account</td>\n",
       "      <td>create_account</td>\n",
       "      <td>ACCOUNT</td>\n",
       "      <td>ACCOUNT</td>\n",
       "      <td>✔️ [True]</td>\n",
       "    </tr>\n",
       "    <tr>\n",
       "      <th>4</th>\n",
       "      <td>could I create an account?</td>\n",
       "      <td>create_account</td>\n",
       "      <td>ACCOUNT</td>\n",
       "      <td>ACCOUNT</td>\n",
       "      <td>✔️ [True]</td>\n",
       "    </tr>\n",
       "    <tr>\n",
       "      <th>...</th>\n",
       "      <td>...</td>\n",
       "      <td>...</td>\n",
       "      <td>...</td>\n",
       "      <td>...</td>\n",
       "      <td>...</td>\n",
       "    </tr>\n",
       "    <tr>\n",
       "      <th>130</th>\n",
       "      <td>can you help me set another shipping address up?</td>\n",
       "      <td>set_up_shipping_address</td>\n",
       "      <td>SHIPPING_ADDRESS</td>\n",
       "      <td>SHIPPING_ADDRESS</td>\n",
       "      <td>✔️ [True]</td>\n",
       "    </tr>\n",
       "    <tr>\n",
       "      <th>131</th>\n",
       "      <td>I try to set up a different shipping address</td>\n",
       "      <td>set_up_shipping_address</td>\n",
       "      <td>SHIPPING_ADDRESS</td>\n",
       "      <td>SHIPPING_ADDRESS</td>\n",
       "      <td>✔️ [True]</td>\n",
       "    </tr>\n",
       "    <tr>\n",
       "      <th>132</th>\n",
       "      <td>set new shipping address up</td>\n",
       "      <td>set_up_shipping_address</td>\n",
       "      <td>SHIPPING_ADDRESS</td>\n",
       "      <td>SHIPPING_ADDRESS</td>\n",
       "      <td>✔️ [True]</td>\n",
       "    </tr>\n",
       "    <tr>\n",
       "      <th>133</th>\n",
       "      <td>I have to set up a new shipping address</td>\n",
       "      <td>set_up_shipping_address</td>\n",
       "      <td>SHIPPING_ADDRESS</td>\n",
       "      <td>SHIPPING_ADDRESS</td>\n",
       "      <td>✔️ [True]</td>\n",
       "    </tr>\n",
       "    <tr>\n",
       "      <th>134</th>\n",
       "      <td>the new shipping address isn't valid</td>\n",
       "      <td>set_up_shipping_address</td>\n",
       "      <td>SHIPPING_ADDRESS</td>\n",
       "      <td>SHIPPING_ADDRESS</td>\n",
       "      <td>✔️ [True]</td>\n",
       "    </tr>\n",
       "  </tbody>\n",
       "</table>\n",
       "<p>135 rows × 5 columns</p>\n",
       "</div>"
      ],
      "text/plain": [
       "                                            customer_utterance  \\\n",
       "0                    what do i need to do to create an account   \n",
       "1    can you help me open a new online account for my husband?   \n",
       "2    i dont have a bloody account i want assistance tp sign up   \n",
       "3                                 help me to create an account   \n",
       "4                                   could I create an account?   \n",
       "..                                                         ...   \n",
       "130           can you help me set another shipping address up?   \n",
       "131               I try to set up a different shipping address   \n",
       "132                                set new shipping address up   \n",
       "133                    I have to set up a new shipping address   \n",
       "134                       the new shipping address isn't valid   \n",
       "\n",
       "                      intent example_ticket_category pred_ticket_category  \\\n",
       "0             create_account                 ACCOUNT              ACCOUNT   \n",
       "1             create_account                 ACCOUNT              ACCOUNT   \n",
       "2             create_account                 ACCOUNT              ACCOUNT   \n",
       "3             create_account                 ACCOUNT              ACCOUNT   \n",
       "4             create_account                 ACCOUNT              ACCOUNT   \n",
       "..                       ...                     ...                  ...   \n",
       "130  set_up_shipping_address        SHIPPING_ADDRESS     SHIPPING_ADDRESS   \n",
       "131  set_up_shipping_address        SHIPPING_ADDRESS     SHIPPING_ADDRESS   \n",
       "132  set_up_shipping_address        SHIPPING_ADDRESS     SHIPPING_ADDRESS   \n",
       "133  set_up_shipping_address        SHIPPING_ADDRESS     SHIPPING_ADDRESS   \n",
       "134  set_up_shipping_address        SHIPPING_ADDRESS     SHIPPING_ADDRESS   \n",
       "\n",
       "    evaluate_accuracy  \n",
       "0           ✔️ [True]  \n",
       "1           ✔️ [True]  \n",
       "2           ✔️ [True]  \n",
       "3           ✔️ [True]  \n",
       "4           ✔️ [True]  \n",
       "..                ...  \n",
       "130         ✔️ [True]  \n",
       "131         ✔️ [True]  \n",
       "132         ✔️ [True]  \n",
       "133         ✔️ [True]  \n",
       "134         ✔️ [True]  \n",
       "\n",
       "[135 rows x 5 columns]"
      ]
     },
     "metadata": {},
     "output_type": "display_data"
    },
    {
     "data": {
      "text/plain": [
       "96.3"
      ]
     },
     "execution_count": 24,
     "metadata": {},
     "output_type": "execute_result"
    }
   ],
   "source": [
    "evaluate(compiled_simba)"
   ]
  },
  {
   "cell_type": "code",
   "execution_count": 26,
   "id": "32e1c6c6",
   "metadata": {},
   "outputs": [],
   "source": [
    "compiled_simba.save(\"simba_model.json\")\n",
    "predictor.save(\"simba.json\")"
   ]
  }
 ],
 "metadata": {
  "kernelspec": {
   "display_name": "dspy-demo",
   "language": "python",
   "name": "python3"
  },
  "language_info": {
   "codemirror_mode": {
    "name": "ipython",
    "version": 3
   },
   "file_extension": ".py",
   "mimetype": "text/x-python",
   "name": "python",
   "nbconvert_exporter": "python",
   "pygments_lexer": "ipython3",
   "version": "3.13.5"
  }
 },
 "nbformat": 4,
 "nbformat_minor": 5
}
