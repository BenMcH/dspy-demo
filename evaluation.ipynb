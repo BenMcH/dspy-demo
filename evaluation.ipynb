{
 "cells": [
  {
   "cell_type": "code",
   "execution_count": null,
   "id": "04d23931",
   "metadata": {},
   "outputs": [],
   "source": [
    "import dspy\n",
    "import os\n",
    "\n",
    "openrouter = dspy.LM(\"openrouter/meta-llama/llama-3.1-8b-instruct\",\n",
    "                     cache=False, api_key=os.getenv(\"OPENROUTER_API_KEY\"))\n",
    "dspy.configure(lm=openrouter)"
   ]
  },
  {
   "cell_type": "code",
   "execution_count": null,
   "id": "af4be725",
   "metadata": {},
   "outputs": [],
   "source": [
    "from phoenix.otel import register\n",
    "\n",
    "register(\n",
    "\tproject_name=\"dspy-evals\",\n",
    "\tendpoint=\"http://localhost:6006/v1/traces\",\n",
    "\tverbose=False,\n",
    "    auto_instrument=True\n",
    ")\n"
   ]
  },
  {
   "cell_type": "markdown",
   "id": "736b062d",
   "metadata": {},
   "source": [
    "# Evaluation and Optimization\n",
    "\n",
    "DSPy provides the ability to run evaluations out of the box. Evaluations give us the ability to quantitatively measure the success of our AI programs. DSPy also provides optimizers that can be used alongside evaluations to automatically improve the performance of our AI programs."
   ]
  },
  {
   "cell_type": "code",
   "execution_count": null,
   "id": "07b41c82",
   "metadata": {},
   "outputs": [],
   "source": [
    "import pandas as pd\n",
    "\n",
    "df = pd.read_csv(\"Bitext_Sample_Customer_Service_Training_Dataset.csv\")\n",
    "df.drop(columns=[\"tags\"], inplace=True)\n",
    "df.rename(columns={\n",
    "    \"utterance\": \"customer_utterance\",\n",
    "    \"category\": \"ticket_category\",\n",
    "}, inplace=True)\n",
    "\n",
    "df\n"
   ]
  },
  {
   "cell_type": "code",
   "execution_count": null,
   "id": "5a5db3c9",
   "metadata": {},
   "outputs": [],
   "source": [
    "import dspy\n",
    "from typing import Literal\n",
    "\n",
    "TicketCategory = Literal[\n",
    "    'ACCOUNT',\n",
    "    'CANCELLATION_FEE',\n",
    "    'CONTACT',\n",
    "    'DELIVERY',\n",
    "    'FEEDBACK',\n",
    "    'INVOICE',\n",
    "    'NEWSLETTER',\n",
    "    'ORDER',\n",
    "    'PAYMENT',\n",
    "    'REFUND',\n",
    "    'SHIPPING_ADDRESS'\n",
    "]\n",
    "\n",
    "class SupportCaseRouter(dspy.Signature):\n",
    "\t\"\"\"\n",
    "\tDetermine which category best fits the customer's request given their stated issue in order to connect them with the appropriate support team.\n",
    "\t\"\"\"\n",
    "\tcustomer_utterance: str = dspy.InputField()\n",
    "\tticket_category: TicketCategory = dspy.OutputField()\n",
    "\n",
    "predictor = dspy.Predict(SupportCaseRouter)"
   ]
  },
  {
   "cell_type": "code",
   "execution_count": null,
   "id": "85f7695b",
   "metadata": {},
   "outputs": [],
   "source": [
    "TRAIN_SIZE = 10\n",
    "TEST_SIZE = 5\n",
    "\n",
    "def sampled_categories(df, n):\n",
    "    indices = []\n",
    "    for _, group in df.groupby([\"ticket_category\", \"intent\"]):\n",
    "        indices.extend(group.sample(n=n).index)\n",
    "\n",
    "    data = df.loc[indices].to_dict(orient=\"records\")\n",
    "    df = df.drop(indices)\n",
    "    return data, df\n",
    "\n",
    "train, df = sampled_categories(df, TRAIN_SIZE)\n",
    "test, df = sampled_categories(df, TEST_SIZE)\n",
    "\n",
    "train_examples = [dspy.Example(**x).with_inputs(\"customer_utterance\") for x in train]\n",
    "test_examples = [dspy.Example(**x).with_inputs(\"customer_utterance\") for x in test]"
   ]
  },
  {
   "cell_type": "code",
   "execution_count": null,
   "id": "77c2aafe",
   "metadata": {},
   "outputs": [],
   "source": [
    "def evaluate_accuracy(example, predicted, trace=None):\n",
    "    return example.ticket_category == predicted.ticket_category\n",
    "\n",
    "evaluate = dspy.Evaluate(devset=test_examples, metric=evaluate_accuracy, display_table=True, display_progress=True)\n",
    "\n",
    "ans = evaluate(predictor, return_outputs=True)\n"
   ]
  },
  {
   "cell_type": "code",
   "execution_count": null,
   "id": "b181ec24",
   "metadata": {},
   "outputs": [],
   "source": [
    "simba = dspy.SIMBA(metric=evaluate_accuracy, max_steps=4, bsize=16)\n",
    "\n",
    "compiled_simba = simba.compile(predictor, trainset=train_examples)"
   ]
  },
  {
   "cell_type": "code",
   "execution_count": null,
   "id": "e3c74a6b",
   "metadata": {},
   "outputs": [],
   "source": [
    "evaluate(compiled_simba)"
   ]
  }
 ],
 "metadata": {
  "kernelspec": {
   "display_name": "dspy-demo",
   "language": "python",
   "name": "python3"
  },
  "language_info": {
   "codemirror_mode": {
    "name": "ipython",
    "version": 3
   },
   "file_extension": ".py",
   "mimetype": "text/x-python",
   "name": "python",
   "nbconvert_exporter": "python",
   "pygments_lexer": "ipython3",
   "version": "3.12.7"
  }
 },
 "nbformat": 4,
 "nbformat_minor": 5
}
