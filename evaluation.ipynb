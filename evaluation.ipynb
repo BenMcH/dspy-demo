{
 "cells": [
  {
   "cell_type": "code",
   "execution_count": 9,
   "id": "04d23931",
   "metadata": {},
   "outputs": [],
   "source": [
    "import dspy\n",
    "\n",
    "openai = dspy.LM(\"openai/gpt-4.1-nano\", cache=False)\n",
    "dspy.configure(lm=openai)"
   ]
  },
  {
   "cell_type": "code",
   "execution_count": 8,
   "id": "af4be725",
   "metadata": {},
   "outputs": [],
   "source": [
    "from phoenix.otel import register\n",
    "from openinference.instrumentation.dspy import DSPyInstrumentor\n",
    "\n",
    "register(\n",
    "\tproject_name=\"dspy-demo\",\n",
    "\tendpoint=\"http://localhost:6006/v1/traces\",\n",
    "\tverbose=False\n",
    ")\n",
    "\n",
    "DSPyInstrumentor().instrument(skip_dep_check=True)"
   ]
  },
  {
   "cell_type": "markdown",
   "id": "736b062d",
   "metadata": {},
   "source": [
    "# Evaluation and Optimization\n",
    "\n",
    "DSPy provides the ability to run evaluations out of the box. Evaluations give us the ability to quantitatively measure the success of our AI programs. DSPy also provides optimizers that can be used alongside evaluations to automatically improve the performance of our AI programs."
   ]
  },
  {
   "cell_type": "code",
   "execution_count": 4,
   "id": "07b41c82",
   "metadata": {},
   "outputs": [],
   "source": [
    "from csv import DictReader\n",
    "\n",
    "data = []\n",
    "\n",
    "# Create set\n",
    "categories = set()\n",
    "mix_intent = set()\n",
    "\n",
    "with open(\"Bitext_Sample_Customer_Service_Training_Dataset.csv\", \"r\") as f:\n",
    "    # header = f.readline().split(\",\")\n",
    "    reader = DictReader(f)\n",
    "    for row in reader:\n",
    "        data.append(row)\n",
    "        categories.add(row[\"category\"])\n",
    "        mix_intent.add(f\"{row[\"category\"]}-{row[\"intent\"]}\")\n",
    "\n"
   ]
  },
  {
   "cell_type": "code",
   "execution_count": null,
   "id": "09edb3e8",
   "metadata": {},
   "outputs": [
    {
     "data": {
      "text/plain": [
       "{'ACCOUNT',\n",
       " 'CANCELLATION_FEE',\n",
       " 'CONTACT',\n",
       " 'DELIVERY',\n",
       " 'FEEDBACK',\n",
       " 'INVOICE',\n",
       " 'NEWSLETTER',\n",
       " 'ORDER',\n",
       " 'PAYMENT',\n",
       " 'REFUND',\n",
       " 'SHIPPING_ADDRESS'}"
      ]
     },
     "execution_count": 5,
     "metadata": {},
     "output_type": "execute_result"
    }
   ],
   "source": []
  },
  {
   "cell_type": "code",
   "execution_count": 40,
   "id": "5a5db3c9",
   "metadata": {},
   "outputs": [],
   "source": [
    "import dspy\n",
    "from typing import Literal\n",
    "\n",
    "TicketCategory = Literal[\n",
    "    'ACCOUNT',\n",
    "    'CANCELLATION_FEE',\n",
    "    'CONTACT',\n",
    "    'DELIVERY',\n",
    "    'FEEDBACK',\n",
    "    'INVOICE',\n",
    "    'NEWSLETTER',\n",
    "    'ORDER',\n",
    "    'PAYMENT',\n",
    "    'REFUND',\n",
    "    'SHIPPING_ADDRESS'\n",
    "]\n",
    "\n",
    "class SupportCaseRouter(dspy.Signature):\n",
    "\t\"\"\"\n",
    "\tDetermine which category best fits the customer's request given their stated issue in order to connect them with the appropriate support team.\n",
    "\t\"\"\"\n",
    "\tcustomer_utterance: str = dspy.InputField()\n",
    "\tticket_category: TicketCategory = dspy.OutputField()\n",
    "\n",
    "predictor = dspy.Predict(SupportCaseRouter)"
   ]
  },
  {
   "cell_type": "code",
   "execution_count": 47,
   "id": "85f7695b",
   "metadata": {},
   "outputs": [],
   "source": [
    "import pandas as pd\n",
    "\n",
    "df = pd.DataFrame(data)\n",
    "\n",
    "df.rename(columns={\n",
    "    \"utterance\": \"customer_utterance\",\n",
    "    \"category\": \"ticket_category\",\n",
    "    \"intent\": \"ticket_intent\",\n",
    "}, inplace=True)\n",
    "\n",
    "df.drop(columns=[\"tags\"], inplace=True)\n",
    "\n",
    "DEV_SIZE = 10\n",
    "TRAIN_SIZE = 25\n",
    "\n",
    "train_indices = []\n",
    "for _, group in df.groupby([\"ticket_category\", \"ticket_intent\"]):\n",
    "    train_indices.extend(group.sample(n =10).index)\n",
    "\n",
    "train = [dspy.Example(**x).with_inputs(\"customer_utterance\") for x in df.loc[train_indices].to_dict(orient=\"records\")]\n",
    "df = df.drop(train_indices)\n",
    "\n",
    "test_indices = []\n",
    "for _, group in df.groupby([\"ticket_category\", \"ticket_intent\"]):\n",
    "    test_indices.extend(group.sample(n =5).index)\n",
    "test = [dspy.Example(**x).with_inputs(\"customer_utterance\") for x in df.loc[test_indices].to_dict(orient=\"records\")]"
   ]
  },
  {
   "cell_type": "code",
   "execution_count": 41,
   "id": "77c2aafe",
   "metadata": {},
   "outputs": [
    {
     "name": "stdout",
     "output_type": "stream",
     "text": [
      "Average Metric: 126.00 / 135 (93.3%): 100%|██████████| 135/135 [00:08<00:00, 15.63it/s]"
     ]
    },
    {
     "name": "stderr",
     "output_type": "stream",
     "text": [
      "2025/07/15 22:41:26 INFO dspy.evaluate.evaluate: Average Metric: 126 / 135 (93.3%)\n"
     ]
    },
    {
     "name": "stdout",
     "output_type": "stream",
     "text": [
      "\n"
     ]
    },
    {
     "data": {
      "text/html": [
       "<div>\n",
       "<style scoped>\n",
       "    .dataframe tbody tr th:only-of-type {\n",
       "        vertical-align: middle;\n",
       "    }\n",
       "\n",
       "    .dataframe tbody tr th {\n",
       "        vertical-align: top;\n",
       "    }\n",
       "\n",
       "    .dataframe thead th {\n",
       "        text-align: right;\n",
       "    }\n",
       "</style>\n",
       "<table border=\"1\" class=\"dataframe\">\n",
       "  <thead>\n",
       "    <tr style=\"text-align: right;\">\n",
       "      <th></th>\n",
       "      <th>customer_utterance</th>\n",
       "      <th>ticket_intent</th>\n",
       "      <th>example_ticket_category</th>\n",
       "      <th>tags</th>\n",
       "      <th>pred_ticket_category</th>\n",
       "      <th>evaluate_accuracy</th>\n",
       "    </tr>\n",
       "  </thead>\n",
       "  <tbody>\n",
       "    <tr>\n",
       "      <th>0</th>\n",
       "      <td>ohw can i sign up</td>\n",
       "      <td>create_account</td>\n",
       "      <td>ACCOUNT</td>\n",
       "      <td>BILQZ</td>\n",
       "      <td>ACCOUNT</td>\n",
       "      <td>✔️ [True]</td>\n",
       "    </tr>\n",
       "    <tr>\n",
       "      <th>1</th>\n",
       "      <td>I have got to create a different user account for my bride</td>\n",
       "      <td>create_account</td>\n",
       "      <td>ACCOUNT</td>\n",
       "      <td>BL</td>\n",
       "      <td>ACCOUNT</td>\n",
       "      <td>✔️ [True]</td>\n",
       "    </tr>\n",
       "    <tr>\n",
       "      <th>2</th>\n",
       "      <td>I want help to create an account</td>\n",
       "      <td>create_account</td>\n",
       "      <td>ACCOUNT</td>\n",
       "      <td>B</td>\n",
       "      <td>ACCOUNT</td>\n",
       "      <td>✔️ [True]</td>\n",
       "    </tr>\n",
       "    <tr>\n",
       "      <th>3</th>\n",
       "      <td>I do not know how I could create an account</td>\n",
       "      <td>create_account</td>\n",
       "      <td>ACCOUNT</td>\n",
       "      <td>BEP</td>\n",
       "      <td>ACCOUNT</td>\n",
       "      <td>✔️ [True]</td>\n",
       "    </tr>\n",
       "    <tr>\n",
       "      <th>4</th>\n",
       "      <td>what do I need to do to create another online account?</td>\n",
       "      <td>create_account</td>\n",
       "      <td>ACCOUNT</td>\n",
       "      <td>BIL</td>\n",
       "      <td>ACCOUNT</td>\n",
       "      <td>✔️ [True]</td>\n",
       "    </tr>\n",
       "    <tr>\n",
       "      <th>...</th>\n",
       "      <td>...</td>\n",
       "      <td>...</td>\n",
       "      <td>...</td>\n",
       "      <td>...</td>\n",
       "      <td>...</td>\n",
       "      <td>...</td>\n",
       "    </tr>\n",
       "    <tr>\n",
       "      <th>130</th>\n",
       "      <td>I would like to set a new shipping address up</td>\n",
       "      <td>set_up_shipping_address</td>\n",
       "      <td>SHIPPING_ADDRESS</td>\n",
       "      <td>BP</td>\n",
       "      <td>SHIPPING_ADDRESS</td>\n",
       "      <td>✔️ [True]</td>\n",
       "    </tr>\n",
       "    <tr>\n",
       "      <th>131</th>\n",
       "      <td>help setting up a different shipping address</td>\n",
       "      <td>set_up_shipping_address</td>\n",
       "      <td>SHIPPING_ADDRESS</td>\n",
       "      <td>B</td>\n",
       "      <td>SHIPPING_ADDRESS</td>\n",
       "      <td>✔️ [True]</td>\n",
       "    </tr>\n",
       "    <tr>\n",
       "      <th>132</th>\n",
       "      <td>I do not know how I can set a new shipping address up</td>\n",
       "      <td>set_up_shipping_address</td>\n",
       "      <td>SHIPPING_ADDRESS</td>\n",
       "      <td>BE</td>\n",
       "      <td>SHIPPING_ADDRESS</td>\n",
       "      <td>✔️ [True]</td>\n",
       "    </tr>\n",
       "    <tr>\n",
       "      <th>133</th>\n",
       "      <td>how could I set another shipping address up?</td>\n",
       "      <td>set_up_shipping_address</td>\n",
       "      <td>SHIPPING_ADDRESS</td>\n",
       "      <td>BIP</td>\n",
       "      <td>SHIPPING_ADDRESS</td>\n",
       "      <td>✔️ [True]</td>\n",
       "    </tr>\n",
       "    <tr>\n",
       "      <th>134</th>\n",
       "      <td>I do not know how I could set a new shipping address up</td>\n",
       "      <td>set_up_shipping_address</td>\n",
       "      <td>SHIPPING_ADDRESS</td>\n",
       "      <td>BEP</td>\n",
       "      <td>SHIPPING_ADDRESS</td>\n",
       "      <td>✔️ [True]</td>\n",
       "    </tr>\n",
       "  </tbody>\n",
       "</table>\n",
       "<p>135 rows × 6 columns</p>\n",
       "</div>"
      ],
      "text/plain": [
       "                                             customer_utterance  \\\n",
       "0                                             ohw can i sign up   \n",
       "1    I have got to create a different user account for my bride   \n",
       "2                              I want help to create an account   \n",
       "3                   I do not know how I could create an account   \n",
       "4        what do I need to do to create another online account?   \n",
       "..                                                          ...   \n",
       "130               I would like to set a new shipping address up   \n",
       "131                help setting up a different shipping address   \n",
       "132       I do not know how I can set a new shipping address up   \n",
       "133                how could I set another shipping address up?   \n",
       "134     I do not know how I could set a new shipping address up   \n",
       "\n",
       "               ticket_intent example_ticket_category   tags  \\\n",
       "0             create_account                 ACCOUNT  BILQZ   \n",
       "1             create_account                 ACCOUNT     BL   \n",
       "2             create_account                 ACCOUNT      B   \n",
       "3             create_account                 ACCOUNT    BEP   \n",
       "4             create_account                 ACCOUNT    BIL   \n",
       "..                       ...                     ...    ...   \n",
       "130  set_up_shipping_address        SHIPPING_ADDRESS     BP   \n",
       "131  set_up_shipping_address        SHIPPING_ADDRESS      B   \n",
       "132  set_up_shipping_address        SHIPPING_ADDRESS     BE   \n",
       "133  set_up_shipping_address        SHIPPING_ADDRESS    BIP   \n",
       "134  set_up_shipping_address        SHIPPING_ADDRESS    BEP   \n",
       "\n",
       "    pred_ticket_category evaluate_accuracy  \n",
       "0                ACCOUNT         ✔️ [True]  \n",
       "1                ACCOUNT         ✔️ [True]  \n",
       "2                ACCOUNT         ✔️ [True]  \n",
       "3                ACCOUNT         ✔️ [True]  \n",
       "4                ACCOUNT         ✔️ [True]  \n",
       "..                   ...               ...  \n",
       "130     SHIPPING_ADDRESS         ✔️ [True]  \n",
       "131     SHIPPING_ADDRESS         ✔️ [True]  \n",
       "132     SHIPPING_ADDRESS         ✔️ [True]  \n",
       "133     SHIPPING_ADDRESS         ✔️ [True]  \n",
       "134     SHIPPING_ADDRESS         ✔️ [True]  \n",
       "\n",
       "[135 rows x 6 columns]"
      ]
     },
     "metadata": {},
     "output_type": "display_data"
    }
   ],
   "source": [
    "def evaluate_accuracy(example, predicted, trace=None):\n",
    "    return example.ticket_category == predicted.ticket_category\n",
    "\n",
    "evaluate = dspy.Evaluate(devset=test, metric=evaluate_accuracy, display_table=True, display_progress=True)\n",
    "\n",
    "ans = evaluate(predictor)\n"
   ]
  },
  {
   "cell_type": "code",
   "execution_count": 42,
   "id": "5a038e50",
   "metadata": {},
   "outputs": [
    {
     "data": {
      "text/plain": [
       "['ACCOUNT',\n",
       " 'ACCOUNT',\n",
       " 'FEEDBACK',\n",
       " 'FEEDBACK',\n",
       " 'FEEDBACK',\n",
       " 'FEEDBACK',\n",
       " 'FEEDBACK',\n",
       " 'ORDER',\n",
       " 'ORDER']"
      ]
     },
     "execution_count": 42,
     "metadata": {},
     "output_type": "execute_result"
    }
   ],
   "source": [
    "[res[0].ticket_category for res in ans.results if res[-1] == False]"
   ]
  },
  {
   "cell_type": "code",
   "execution_count": 43,
   "id": "b181ec24",
   "metadata": {},
   "outputs": [
    {
     "name": "stderr",
     "output_type": "stream",
     "text": [
      "2025/07/15 22:41:39 INFO dspy.teleprompt.simba: Starting batch 1 of 4.\n",
      "2025/07/15 22:41:44 INFO dspy.teleprompt.simba: Sampling program trajectories on 16 examples x 6 samples.\n"
     ]
    },
    {
     "name": "stdout",
     "output_type": "stream",
     "text": [
      "Processed 96 / 96 examples: 100%|██████████| 96/96 [00:10<00:00,  9.38it/s]"
     ]
    },
    {
     "name": "stderr",
     "output_type": "stream",
     "text": [
      "2025/07/15 22:41:54 INFO dspy.teleprompt.simba: Batch 1: Baseline mini-batch score: 0.875\n",
      "\n",
      "2025/07/15 22:41:54 INFO dspy.teleprompt.simba: Batch 1: Processing bucket #1, with max score 1.0, max-to-min gap 1.0, and max-to-avg gap 0.6666666666666667.\n",
      "2025/07/15 22:41:54 INFO dspy.teleprompt.simba: Batch 1: Invoking strategy: append_a_rule\n"
     ]
    },
    {
     "name": "stdout",
     "output_type": "stream",
     "text": [
      "\n"
     ]
    },
    {
     "name": "stderr",
     "output_type": "stream",
     "text": [
      "2025/07/15 22:41:57 INFO dspy.teleprompt.simba_utils: Advice for self: If the customer_utterance contains keywords or phrases related to registration, account setup, or login issues (e.g., 'register', 'sign up', 'login problem', 'report a registration issue'), then the module should classify the ticket_category as 'ACCOUNT'. Avoid relying solely on words like 'report' or 'how' that might suggest a support contact rather than a specific issue. Incorporate intent recognition or keyword matching focused on account-related problems to improve accuracy.\n",
      "2025/07/15 22:41:57 INFO dspy.teleprompt.simba: \n",
      "\n",
      "2025/07/15 22:41:57 INFO dspy.teleprompt.simba: Batch 1: Processing bucket #2, with max score 1.0, max-to-min gap 1.0, and max-to-avg gap 0.33333333333333337.\n",
      "2025/07/15 22:41:57 INFO dspy.teleprompt.simba: Batch 1: Invoking strategy: append_a_rule\n",
      "2025/07/15 22:41:58 INFO dspy.teleprompt.simba_utils: Advice for self: If the customer_utterance contains keywords like 'signup', 'registration', or 'create account', then the module should prioritize predicting 'ACCOUNT' as the ticket_category. To improve accuracy, incorporate keyword detection or intent classification that emphasizes account-related terms, and avoid defaulting to more generic categories like 'CONTACT'. Use the oracle metadata as a reference to calibrate the model's sensitivity to such keywords, ensuring that account issues are correctly identified when relevant terms are present.\n",
      "2025/07/15 22:41:58 INFO dspy.teleprompt.simba: \n",
      "\n",
      "2025/07/15 22:41:58 INFO dspy.teleprompt.simba: Batch 1: Processing bucket #3, with max score 1.0, max-to-min gap 0.0, and max-to-avg gap 0.0.\n",
      "2025/07/15 22:41:59 INFO dspy.teleprompt.simba: Batch 1: Invoking strategy: append_a_demo_\n",
      "2025/07/15 22:41:59 INFO dspy.teleprompt.simba_utils: Added 1 demos (one each) across all predictors.\n",
      "2025/07/15 22:41:59 INFO dspy.teleprompt.simba: \n",
      "\n",
      "2025/07/15 22:41:59 INFO dspy.teleprompt.simba: Batch 1: Processing bucket #4, with max score 1.0, max-to-min gap 0.0, and max-to-avg gap 0.0.\n",
      "2025/07/15 22:41:59 INFO dspy.teleprompt.simba: Batch 1: Invoking strategy: append_a_rule\n",
      "2025/07/15 22:42:01 INFO dspy.teleprompt.simba_utils: Advice for self: When the customer utterance contains strong emotional language or words indicating dissatisfaction (e.g., 'unhappy', 'bloody', 'complaint'), then the module should prioritize classifying the ticket as 'FEEDBACK' or 'COMPLAINT' to ensure appropriate routing. If the utterance is ambiguous or contains mixed signals, consider requesting clarification or defaulting to a broader category like 'FEEDBACK' to avoid misclassification. Avoid overly narrow or rigid classification criteria that might miss nuanced customer intents, especially in emotionally charged language.\n",
      "2025/07/15 22:42:01 INFO dspy.teleprompt.simba: \n",
      "\n",
      "2025/07/15 22:42:01 INFO dspy.teleprompt.simba: Batch 1: Processing bucket #5, with max score 1.0, max-to-min gap 0.0, and max-to-avg gap 0.0.\n",
      "2025/07/15 22:42:01 INFO dspy.teleprompt.simba: Batch 1: Invoking strategy: append_a_rule\n",
      "2025/07/15 22:42:03 INFO dspy.teleprompt.simba_utils: Advice for self: Since the current module correctly classifies the customer utterance as 'DELIVERY', ensure that for similar inputs, it continues to leverage contextual cues and keywords related to delivery issues. Avoid overfitting to specific phrases; instead, incorporate a broader understanding of delivery-related language. If the input contains words like 'delivery', 'shipping', or 'delivery options', the module should prioritize these cues to confidently assign the 'DELIVERY' category, rather than relying solely on surface-level keywords.\n",
      "2025/07/15 22:42:03 INFO dspy.teleprompt.simba: \n",
      "\n",
      "2025/07/15 22:42:03 INFO dspy.teleprompt.simba: Batch 1: Processing bucket #6, with max score 1.0, max-to-min gap 0.0, and max-to-avg gap 0.0.\n",
      "2025/07/15 22:42:03 INFO dspy.teleprompt.simba: Batch 1: Invoking strategy: append_a_demo_\n",
      "2025/07/15 22:42:03 INFO dspy.teleprompt.simba_utils: Added 1 demos (one each) across all predictors.\n",
      "2025/07/15 22:42:03 INFO dspy.teleprompt.simba: \n",
      "\n",
      "2025/07/15 22:42:03 INFO dspy.teleprompt.simba: Batch 1: Processing bucket #7, with max score 1.0, max-to-min gap 0.0, and max-to-avg gap 0.0.\n",
      "2025/07/15 22:42:03 INFO dspy.teleprompt.simba: Batch 1: Invoking strategy: append_a_rule\n",
      "2025/07/15 22:42:04 INFO dspy.teleprompt.simba_utils: Advice for self: If the customer_utterance contains phrases like 'early exit fee' or similar, then the module should assess the confidence level of its classification. If confidence is below a certain threshold, it should return 'N/A' or a similar indicator of uncertainty instead of a definitive category, to avoid incorrect routing. Avoid overconfidence on ambiguous or unclear utterances, and consider implementing a confidence threshold to decide when to abstain from classification.\n",
      "2025/07/15 22:42:04 INFO dspy.teleprompt.simba: \n",
      "\n",
      "2025/07/15 22:42:04 INFO dspy.teleprompt.simba: Batch 1: Evaluating 7 programs on 16 examples.\n"
     ]
    },
    {
     "name": "stdout",
     "output_type": "stream",
     "text": [
      "Processed 112 / 112 examples: 100%|██████████| 112/112 [00:07<00:00, 15.14it/s]"
     ]
    },
    {
     "name": "stderr",
     "output_type": "stream",
     "text": [
      "2025/07/15 22:42:12 INFO dspy.teleprompt.simba: Scores after 1 batches: [1.0, 1.0, 0.8125, 0.8125, 0.8125, 0.875, 0.75], Best: 1.0\n",
      "\n",
      "2025/07/15 22:42:12 INFO dspy.teleprompt.simba: Starting batch 2 of 4.\n"
     ]
    },
    {
     "name": "stdout",
     "output_type": "stream",
     "text": [
      "\n"
     ]
    },
    {
     "name": "stderr",
     "output_type": "stream",
     "text": [
      "2025/07/15 22:42:16 INFO dspy.teleprompt.simba: Sampling program trajectories on 16 examples x 6 samples.\n"
     ]
    },
    {
     "name": "stdout",
     "output_type": "stream",
     "text": [
      "Processed 96 / 96 examples: 100%|██████████| 96/96 [00:06<00:00, 15.57it/s]\n"
     ]
    },
    {
     "name": "stderr",
     "output_type": "stream",
     "text": [
      "2025/07/15 22:42:23 INFO dspy.teleprompt.simba: Batch 2: Baseline mini-batch score: 0.9895833333333334\n",
      "\n",
      "2025/07/15 22:42:23 INFO dspy.teleprompt.simba: Batch 2: Processing bucket #1, with max score 1.0, max-to-min gap 1.0, and max-to-avg gap 0.16666666666666663.\n",
      "2025/07/15 22:42:23 INFO dspy.teleprompt.simba: Batch 2: Invoking strategy: append_a_demo_\n",
      "2025/07/15 22:42:23 INFO dspy.teleprompt.simba_utils: Added 1 demos (one each) across all predictors.\n",
      "2025/07/15 22:42:23 INFO dspy.teleprompt.simba: \n",
      "\n",
      "2025/07/15 22:42:23 INFO dspy.teleprompt.simba: Batch 2: Processing bucket #2, with max score 1.0, max-to-min gap 0.0, and max-to-avg gap 0.0.\n",
      "2025/07/15 22:42:23 INFO dspy.teleprompt.simba: Batch 2: Invoking strategy: append_a_demo_\n",
      "2025/07/15 22:42:23 INFO dspy.teleprompt.simba_utils: Added 1 demos (one each) across all predictors.\n",
      "2025/07/15 22:42:23 INFO dspy.teleprompt.simba: \n",
      "\n",
      "2025/07/15 22:42:23 INFO dspy.teleprompt.simba: Batch 2: Processing bucket #3, with max score 1.0, max-to-min gap 0.0, and max-to-avg gap 0.0.\n",
      "2025/07/15 22:42:23 INFO dspy.teleprompt.simba: Batch 2: Invoking strategy: append_a_rule\n",
      "2025/07/15 22:42:25 INFO dspy.teleprompt.simba_utils: Advice for self: If the customer_utterance contains keywords like 'report', 'issue', or 'problem', then ensure the model explicitly considers these cues to reinforce the category 'ACCOUNT' when relevant, and avoid overgeneralizing to other categories. Additionally, if the model is uncertain or the utterance is ambiguous, it should either request clarification or assign a default category with high confidence, rather than making a potentially incorrect classification. This will help improve accuracy and robustness in diverse real-world inputs.\n",
      "2025/07/15 22:42:25 INFO dspy.teleprompt.simba: \n",
      "\n",
      "2025/07/15 22:42:25 INFO dspy.teleprompt.simba: Batch 2: Processing bucket #4, with max score 1.0, max-to-min gap 0.0, and max-to-avg gap 0.0.\n",
      "2025/07/15 22:42:25 INFO dspy.teleprompt.simba: Batch 2: Invoking strategy: append_a_rule\n",
      "2025/07/15 22:42:27 INFO dspy.teleprompt.simba_utils: Advice for self: When the customer_utterance contains keywords like 'refund', 'return', or 'money back', then the module should prioritize predicting 'REFUND' as the ticket_category. To improve accuracy, incorporate keyword detection or intent classification that emphasizes refund-related terms, and avoid defaulting to generic categories like 'CONTACT'. Use the oracle metadata as a reference to calibrate the model's sensitivity to such keywords, ensuring refund issues are correctly identified when relevant terms are present.\n",
      "2025/07/15 22:42:27 INFO dspy.teleprompt.simba: \n",
      "\n",
      "2025/07/15 22:42:27 INFO dspy.teleprompt.simba: Batch 2: Processing bucket #5, with max score 1.0, max-to-min gap 0.0, and max-to-avg gap 0.0.\n",
      "2025/07/15 22:42:27 INFO dspy.teleprompt.simba: Batch 2: Invoking strategy: append_a_rule\n",
      "2025/07/15 22:42:29 INFO dspy.teleprompt.simba_utils: Advice for self: When the customer_utterance contains keywords like 'invoice' or related billing terms, prioritize predicting 'INVOICE' as the ticket_category. Incorporate keyword detection or simple intent classification to reinforce the model's confidence in billing-related requests, especially when the oracle metadata indicates such intent. Avoid defaulting to generic categories like 'CONTACT' unless the utterance lacks specific keywords or context. If the model's confidence is low, consider abstaining from prediction to prevent incorrect classifications.\n",
      "2025/07/15 22:42:29 INFO dspy.teleprompt.simba: \n",
      "\n",
      "2025/07/15 22:42:29 INFO dspy.teleprompt.simba: Batch 2: Processing bucket #6, with max score 1.0, max-to-min gap 0.0, and max-to-avg gap 0.0.\n",
      "2025/07/15 22:42:29 INFO dspy.teleprompt.simba: Batch 2: Invoking strategy: append_a_rule\n",
      "2025/07/15 22:42:32 INFO dspy.teleprompt.simba_utils: Advice for self: If the customer_utterance contains keywords like 'password', 'recover', or 'reset', then the module should confidently assign the 'ACCOUNT' category, ensuring it leverages keyword detection or intent recognition to improve accuracy. Avoid overly generic or uncertain classifications when clear intent keywords are present, and consider confirming the category with additional context if available.\n",
      "2025/07/15 22:42:32 INFO dspy.teleprompt.simba: \n",
      "\n",
      "2025/07/15 22:42:32 INFO dspy.teleprompt.simba: Batch 2: Processing bucket #7, with max score 1.0, max-to-min gap 0.0, and max-to-avg gap 0.0.\n",
      "2025/07/15 22:42:32 INFO dspy.teleprompt.simba: Batch 2: Invoking strategy: append_a_rule, having dropped 1 demos per predictor\n",
      "2025/07/15 22:42:34 INFO dspy.teleprompt.simba_utils: Advice for self: When the customer utterance contains keywords like 'retrieve', 'password', or 'account', ensure the ticket category is set to 'ACCOUNT'. If the utterance is ambiguous or contains similar terms, consider incorporating a small set of example utterances and their categories to improve classification accuracy. Avoid overly generic responses; instead, focus on specific keywords and context cues to determine the correct category more reliably.\n",
      "2025/07/15 22:42:34 INFO dspy.teleprompt.simba: \n",
      "\n",
      "2025/07/15 22:42:34 INFO dspy.teleprompt.simba: Batch 2: Evaluating 7 programs on 16 examples.\n"
     ]
    },
    {
     "name": "stdout",
     "output_type": "stream",
     "text": [
      "Processed 112 / 112 examples: 100%|██████████| 112/112 [00:09<00:00, 12.13it/s]"
     ]
    },
    {
     "name": "stderr",
     "output_type": "stream",
     "text": [
      "2025/07/15 22:42:43 INFO dspy.teleprompt.simba: Scores after 2 batches: [1.0, 1.0, 0.9375, 0.9375, 0.9375, 0.9375, 1.0], Best: 1.0\n",
      "\n",
      "2025/07/15 22:42:43 INFO dspy.teleprompt.simba: Starting batch 3 of 4.\n"
     ]
    },
    {
     "name": "stdout",
     "output_type": "stream",
     "text": [
      "\n"
     ]
    },
    {
     "name": "stderr",
     "output_type": "stream",
     "text": [
      "2025/07/15 22:42:48 INFO dspy.teleprompt.simba: Sampling program trajectories on 16 examples x 6 samples.\n"
     ]
    },
    {
     "name": "stdout",
     "output_type": "stream",
     "text": [
      "Processed 96 / 96 examples: 100%|██████████| 96/96 [00:06<00:00, 15.98it/s]"
     ]
    },
    {
     "name": "stderr",
     "output_type": "stream",
     "text": [
      "2025/07/15 22:42:54 INFO dspy.teleprompt.simba: Batch 3: Baseline mini-batch score: 0.875\n",
      "\n",
      "2025/07/15 22:42:54 INFO dspy.teleprompt.simba: Batch 3: Processing bucket #1, with max score 1.0, max-to-min gap 1.0, and max-to-avg gap 0.8333333333333334.\n",
      "2025/07/15 22:42:54 INFO dspy.teleprompt.simba: Batch 3: Invoking strategy: append_a_demo_\n",
      "2025/07/15 22:42:54 INFO dspy.teleprompt.simba_utils: Added 1 demos (one each) across all predictors.\n",
      "2025/07/15 22:42:54 INFO dspy.teleprompt.simba: \n",
      "\n",
      "2025/07/15 22:42:54 INFO dspy.teleprompt.simba: Batch 3: Processing bucket #2, with max score 1.0, max-to-min gap 1.0, and max-to-avg gap 0.6666666666666667.\n",
      "2025/07/15 22:42:54 INFO dspy.teleprompt.simba: Batch 3: Invoking strategy: append_a_rule, having dropped 1 demos per predictor\n"
     ]
    },
    {
     "name": "stdout",
     "output_type": "stream",
     "text": [
      "\n"
     ]
    },
    {
     "name": "stderr",
     "output_type": "stream",
     "text": [
      "2025/07/15 22:42:57 INFO dspy.teleprompt.simba_utils: Advice for self: If the customer_utterance contains words like 'cancel', 'cancel order', or similar phrases, then the module should consider the overall context and intent to determine if the request pertains to an order rather than defaulting to a specific subcategory like 'CANCELLATION_FEE'. To improve accuracy, incorporate intent recognition or keyword weighting that emphasizes the overall goal of the request, rather than focusing solely on specific keywords that might lead to misclassification.\n",
      "2025/07/15 22:42:57 INFO dspy.teleprompt.simba: \n",
      "\n",
      "2025/07/15 22:42:57 INFO dspy.teleprompt.simba: Batch 3: Processing bucket #3, with max score 1.0, max-to-min gap 1.0, and max-to-avg gap 0.5.\n",
      "2025/07/15 22:42:57 INFO dspy.teleprompt.simba: Batch 3: Invoking strategy: append_a_demo_\n",
      "2025/07/15 22:42:57 INFO dspy.teleprompt.simba_utils: Added 1 demos (one each) across all predictors.\n",
      "2025/07/15 22:42:57 INFO dspy.teleprompt.simba: \n",
      "\n",
      "2025/07/15 22:42:57 INFO dspy.teleprompt.simba: Batch 3: Processing bucket #4, with max score 1.0, max-to-min gap 0.0, and max-to-avg gap 0.0.\n",
      "2025/07/15 22:42:57 INFO dspy.teleprompt.simba: Batch 3: Invoking strategy: append_a_demo_\n",
      "2025/07/15 22:42:57 INFO dspy.teleprompt.simba_utils: Added 1 demos (one each) across all predictors.\n",
      "2025/07/15 22:42:57 INFO dspy.teleprompt.simba: \n",
      "\n",
      "2025/07/15 22:42:57 INFO dspy.teleprompt.simba: Batch 3: Processing bucket #5, with max score 1.0, max-to-min gap 0.0, and max-to-avg gap 0.0.\n",
      "2025/07/15 22:42:57 INFO dspy.teleprompt.simba: Batch 3: Invoking strategy: append_a_rule, having dropped 2 demos per predictor\n",
      "2025/07/15 22:42:59 INFO dspy.teleprompt.simba_utils: Advice for self: When the customer utterance indicates a purchase intent such as 'buy' or 'order', ensure the model emphasizes keywords related to purchasing actions and items. Avoid overly generic or vague responses; instead, focus on recognizing explicit purchase language to improve accuracy. Since the current output correctly identified 'ORDER', reinforce the importance of context cues that signal buying intent, and consider incorporating more detailed pattern recognition for similar phrases to maintain high performance.\n",
      "2025/07/15 22:42:59 INFO dspy.teleprompt.simba: \n",
      "\n",
      "2025/07/15 22:42:59 INFO dspy.teleprompt.simba: Batch 3: Processing bucket #6, with max score 1.0, max-to-min gap 0.0, and max-to-avg gap 0.0.\n",
      "2025/07/15 22:42:59 INFO dspy.teleprompt.simba: Batch 3: Invoking strategy: append_a_demo_\n",
      "2025/07/15 22:42:59 INFO dspy.teleprompt.simba_utils: Added 1 demos (one each) across all predictors.\n",
      "2025/07/15 22:42:59 INFO dspy.teleprompt.simba: \n",
      "\n",
      "2025/07/15 22:42:59 INFO dspy.teleprompt.simba: Batch 3: Processing bucket #7, with max score 1.0, max-to-min gap 0.0, and max-to-avg gap 0.0.\n",
      "2025/07/15 22:42:59 INFO dspy.teleprompt.simba: Batch 3: Invoking strategy: append_a_rule\n",
      "2025/07/15 22:43:03 INFO dspy.teleprompt.simba_utils: Advice for self: When the customer_utterance contains keywords like 'delivery', 'shipping', or 'options', then the module should prioritize predicting 'DELIVERY' as the ticket_category. To improve accuracy, incorporate explicit keyword detection or an intent classification step that emphasizes delivery-related terms, and cross-reference with the oracle metadata to calibrate the model's sensitivity. Avoid defaulting to generic categories; instead, use the presence of delivery-specific keywords and intent cues to confidently assign 'DELIVERY'.\n",
      "2025/07/15 22:43:03 INFO dspy.teleprompt.simba: \n",
      "\n",
      "2025/07/15 22:43:03 INFO dspy.teleprompt.simba: Batch 3: Evaluating 7 programs on 16 examples.\n"
     ]
    },
    {
     "name": "stdout",
     "output_type": "stream",
     "text": [
      "Processed 112 / 112 examples: 100%|██████████| 112/112 [00:07<00:00, 14.16it/s]"
     ]
    },
    {
     "name": "stderr",
     "output_type": "stream",
     "text": [
      "2025/07/15 22:43:11 INFO dspy.teleprompt.simba: Scores after 3 batches: [0.875, 0.9375, 0.9375, 0.875, 0.75, 0.9375, 0.875], Best: 0.9375\n",
      "\n",
      "2025/07/15 22:43:11 INFO dspy.teleprompt.simba: Starting batch 4 of 4.\n"
     ]
    },
    {
     "name": "stdout",
     "output_type": "stream",
     "text": [
      "\n"
     ]
    },
    {
     "name": "stderr",
     "output_type": "stream",
     "text": [
      "2025/07/15 22:43:16 INFO dspy.teleprompt.simba: Sampling program trajectories on 16 examples x 6 samples.\n"
     ]
    },
    {
     "name": "stdout",
     "output_type": "stream",
     "text": [
      "Processed 96 / 96 examples: 100%|██████████| 96/96 [00:07<00:00, 12.27it/s]"
     ]
    },
    {
     "name": "stderr",
     "output_type": "stream",
     "text": [
      "2025/07/15 22:43:24 INFO dspy.teleprompt.simba: Batch 4: Baseline mini-batch score: 0.90625\n",
      "\n",
      "2025/07/15 22:43:24 INFO dspy.teleprompt.simba: Batch 4: Processing bucket #1, with max score 1.0, max-to-min gap 1.0, and max-to-avg gap 0.5.\n",
      "2025/07/15 22:43:24 INFO dspy.teleprompt.simba: Batch 4: Invoking strategy: append_a_rule\n"
     ]
    },
    {
     "name": "stdout",
     "output_type": "stream",
     "text": [
      "\n"
     ]
    },
    {
     "name": "stderr",
     "output_type": "stream",
     "text": [
      "2025/07/15 22:43:26 INFO dspy.teleprompt.simba_utils: Advice for self: If the customer_utterance contains words like 'track' or 'tracking' combined with 'order', then the module should classify the ticket_category as 'ORDER' rather than 'DELIVERY'. To improve accuracy, incorporate intent recognition that prioritizes 'order' related actions when 'track' is mentioned in the context of an order, and avoid defaulting to delivery categories based solely on the presence of 'track'. Consider adding a keyword or phrase matching pattern that explicitly links 'track' with 'order' issues, especially when the context involves order management rather than delivery specifics.\n",
      "2025/07/15 22:43:26 INFO dspy.teleprompt.simba: \n",
      "\n",
      "2025/07/15 22:43:26 INFO dspy.teleprompt.simba: Batch 4: Processing bucket #2, with max score 1.0, max-to-min gap 0.0, and max-to-avg gap 0.0.\n",
      "2025/07/15 22:43:26 INFO dspy.teleprompt.simba: Batch 4: Invoking strategy: append_a_demo_\n",
      "2025/07/15 22:43:26 INFO dspy.teleprompt.simba_utils: Added 1 demos (one each) across all predictors.\n",
      "2025/07/15 22:43:26 INFO dspy.teleprompt.simba: \n",
      "\n",
      "2025/07/15 22:43:26 INFO dspy.teleprompt.simba: Batch 4: Processing bucket #3, with max score 1.0, max-to-min gap 0.0, and max-to-avg gap 0.0.\n",
      "2025/07/15 22:43:26 INFO dspy.teleprompt.simba: Batch 4: Invoking strategy: append_a_demo_, having dropped 1 demos per predictor\n",
      "2025/07/15 22:43:26 INFO dspy.teleprompt.simba_utils: Added 1 demos (one each) across all predictors.\n",
      "2025/07/15 22:43:26 INFO dspy.teleprompt.simba: \n",
      "\n",
      "2025/07/15 22:43:26 INFO dspy.teleprompt.simba: Batch 4: Processing bucket #4, with max score 1.0, max-to-min gap 0.0, and max-to-avg gap 0.0.\n",
      "2025/07/15 22:43:26 INFO dspy.teleprompt.simba: Batch 4: Invoking strategy: append_a_rule, having dropped 1 demos per predictor\n",
      "2025/07/15 22:43:29 INFO dspy.teleprompt.simba_utils: Advice for self: When the customer utterance contains keywords or phrases related to newsletters, subscriptions, or similar topics, ensure the model is prompted or conditioned to prioritize 'NEWSLETTER' as the category. Avoid overgeneralizing to other categories when the context clearly indicates a newsletter request. If the model is uncertain, consider prompting it explicitly to confirm the newsletter intent before finalizing the category.\n",
      "2025/07/15 22:43:29 INFO dspy.teleprompt.simba: \n",
      "\n",
      "2025/07/15 22:43:29 INFO dspy.teleprompt.simba: Batch 4: Processing bucket #5, with max score 1.0, max-to-min gap 0.0, and max-to-avg gap 0.0.\n",
      "2025/07/15 22:43:29 INFO dspy.teleprompt.simba: Batch 4: Invoking strategy: append_a_rule\n",
      "2025/07/15 22:43:30 INFO dspy.teleprompt.simba_utils: Advice for self: When the customer_utterance contains keywords like 'termination', 'penalty', or related terms indicating a cancellation or termination issue, then the module should prioritize predicting 'CANCELLATION_FEE' or similar relevant categories. To improve accuracy, incorporate keyword detection or simple intent classification that emphasizes termination-related terms, and avoid defaulting to generic categories like 'CONTACT'. Use the oracle metadata as a reference to calibrate the model's sensitivity to such keywords, ensuring that termination issues are correctly identified when relevant terms are present.\n",
      "2025/07/15 22:43:30 INFO dspy.teleprompt.simba: \n",
      "\n",
      "2025/07/15 22:43:30 INFO dspy.teleprompt.simba: Batch 4: Processing bucket #6, with max score 1.0, max-to-min gap 0.0, and max-to-avg gap 0.0.\n",
      "2025/07/15 22:43:30 INFO dspy.teleprompt.simba: Batch 4: Invoking strategy: append_a_demo_, having dropped 1 demos per predictor\n",
      "2025/07/15 22:43:30 INFO dspy.teleprompt.simba_utils: Added 1 demos (one each) across all predictors.\n",
      "2025/07/15 22:43:30 INFO dspy.teleprompt.simba: \n",
      "\n",
      "2025/07/15 22:43:30 INFO dspy.teleprompt.simba: Batch 4: Processing bucket #7, with max score 1.0, max-to-min gap 0.0, and max-to-avg gap 0.0.\n",
      "2025/07/15 22:43:30 INFO dspy.teleprompt.simba: Batch 4: Invoking strategy: append_a_demo_\n",
      "2025/07/15 22:43:30 INFO dspy.teleprompt.simba_utils: Added 1 demos (one each) across all predictors.\n",
      "2025/07/15 22:43:30 INFO dspy.teleprompt.simba: \n",
      "\n",
      "2025/07/15 22:43:30 INFO dspy.teleprompt.simba: Batch 4: Evaluating 7 programs on 16 examples.\n"
     ]
    },
    {
     "name": "stdout",
     "output_type": "stream",
     "text": [
      "Processed 112 / 112 examples: 100%|██████████| 112/112 [00:07<00:00, 15.46it/s]"
     ]
    },
    {
     "name": "stderr",
     "output_type": "stream",
     "text": [
      "2025/07/15 22:43:38 INFO dspy.teleprompt.simba: Scores after 4 batches: [0.9375, 0.9375, 0.9375, 0.9375, 0.9375, 0.9375, 0.9375], Best: 0.9375\n",
      "\n"
     ]
    },
    {
     "name": "stdout",
     "output_type": "stream",
     "text": [
      "\n"
     ]
    },
    {
     "name": "stderr",
     "output_type": "stream",
     "text": [
      "2025/07/15 22:43:38 INFO dspy.teleprompt.simba: VALIDATION: Evaluating 5 programs on the full trainset.\n"
     ]
    },
    {
     "name": "stdout",
     "output_type": "stream",
     "text": [
      "Processed 1293 / 1350 examples:  96%|█████████▌| 1292/1350 [02:28<00:11,  4.89it/s]"
     ]
    },
    {
     "name": "stderr",
     "output_type": "stream",
     "text": [
      "2025/07/15 22:46:07 WARNING dspy.adapters.json_adapter: Failed to use structured output format, falling back to JSON mode.\n"
     ]
    },
    {
     "name": "stdout",
     "output_type": "stream",
     "text": [
      "Processed 1350 / 1350 examples: 100%|██████████| 1350/1350 [03:04<00:00,  7.32it/s]"
     ]
    },
    {
     "name": "stderr",
     "output_type": "stream",
     "text": [
      "2025/07/15 22:46:43 INFO dspy.teleprompt.simba: Final trainset scores: [0.9592592592592593, 0.9555555555555556, 0.9518518518518518, 0.9555555555555556, 0.9740740740740741], Best: 0.9740740740740741 (at index 4)\n",
      "\n",
      "\n",
      "\n"
     ]
    },
    {
     "name": "stdout",
     "output_type": "stream",
     "text": [
      "\n",
      "Average Metric: 128.00 / 135 (94.8%): 100%|██████████| 135/135 [00:09<00:00, 13.61it/s]"
     ]
    },
    {
     "name": "stderr",
     "output_type": "stream",
     "text": [
      "2025/07/15 22:46:53 INFO dspy.evaluate.evaluate: Average Metric: 128 / 135 (94.8%)\n"
     ]
    },
    {
     "name": "stdout",
     "output_type": "stream",
     "text": [
      "\n"
     ]
    },
    {
     "data": {
      "text/html": [
       "<div>\n",
       "<style scoped>\n",
       "    .dataframe tbody tr th:only-of-type {\n",
       "        vertical-align: middle;\n",
       "    }\n",
       "\n",
       "    .dataframe tbody tr th {\n",
       "        vertical-align: top;\n",
       "    }\n",
       "\n",
       "    .dataframe thead th {\n",
       "        text-align: right;\n",
       "    }\n",
       "</style>\n",
       "<table border=\"1\" class=\"dataframe\">\n",
       "  <thead>\n",
       "    <tr style=\"text-align: right;\">\n",
       "      <th></th>\n",
       "      <th>customer_utterance</th>\n",
       "      <th>ticket_intent</th>\n",
       "      <th>example_ticket_category</th>\n",
       "      <th>tags</th>\n",
       "      <th>pred_ticket_category</th>\n",
       "      <th>evaluate_accuracy</th>\n",
       "    </tr>\n",
       "  </thead>\n",
       "  <tbody>\n",
       "    <tr>\n",
       "      <th>0</th>\n",
       "      <td>ohw can i sign up</td>\n",
       "      <td>create_account</td>\n",
       "      <td>ACCOUNT</td>\n",
       "      <td>BILQZ</td>\n",
       "      <td>ACCOUNT</td>\n",
       "      <td>✔️ [True]</td>\n",
       "    </tr>\n",
       "    <tr>\n",
       "      <th>1</th>\n",
       "      <td>I have got to create a different user account for my bride</td>\n",
       "      <td>create_account</td>\n",
       "      <td>ACCOUNT</td>\n",
       "      <td>BL</td>\n",
       "      <td>ACCOUNT</td>\n",
       "      <td>✔️ [True]</td>\n",
       "    </tr>\n",
       "    <tr>\n",
       "      <th>2</th>\n",
       "      <td>I want help to create an account</td>\n",
       "      <td>create_account</td>\n",
       "      <td>ACCOUNT</td>\n",
       "      <td>B</td>\n",
       "      <td>ACCOUNT</td>\n",
       "      <td>✔️ [True]</td>\n",
       "    </tr>\n",
       "    <tr>\n",
       "      <th>3</th>\n",
       "      <td>I do not know how I could create an account</td>\n",
       "      <td>create_account</td>\n",
       "      <td>ACCOUNT</td>\n",
       "      <td>BEP</td>\n",
       "      <td>ACCOUNT</td>\n",
       "      <td>✔️ [True]</td>\n",
       "    </tr>\n",
       "    <tr>\n",
       "      <th>4</th>\n",
       "      <td>what do I need to do to create another online account?</td>\n",
       "      <td>create_account</td>\n",
       "      <td>ACCOUNT</td>\n",
       "      <td>BIL</td>\n",
       "      <td>ACCOUNT</td>\n",
       "      <td>✔️ [True]</td>\n",
       "    </tr>\n",
       "    <tr>\n",
       "      <th>...</th>\n",
       "      <td>...</td>\n",
       "      <td>...</td>\n",
       "      <td>...</td>\n",
       "      <td>...</td>\n",
       "      <td>...</td>\n",
       "      <td>...</td>\n",
       "    </tr>\n",
       "    <tr>\n",
       "      <th>130</th>\n",
       "      <td>I would like to set a new shipping address up</td>\n",
       "      <td>set_up_shipping_address</td>\n",
       "      <td>SHIPPING_ADDRESS</td>\n",
       "      <td>BP</td>\n",
       "      <td>SHIPPING_ADDRESS</td>\n",
       "      <td>✔️ [True]</td>\n",
       "    </tr>\n",
       "    <tr>\n",
       "      <th>131</th>\n",
       "      <td>help setting up a different shipping address</td>\n",
       "      <td>set_up_shipping_address</td>\n",
       "      <td>SHIPPING_ADDRESS</td>\n",
       "      <td>B</td>\n",
       "      <td>SHIPPING_ADDRESS</td>\n",
       "      <td>✔️ [True]</td>\n",
       "    </tr>\n",
       "    <tr>\n",
       "      <th>132</th>\n",
       "      <td>I do not know how I can set a new shipping address up</td>\n",
       "      <td>set_up_shipping_address</td>\n",
       "      <td>SHIPPING_ADDRESS</td>\n",
       "      <td>BE</td>\n",
       "      <td>SHIPPING_ADDRESS</td>\n",
       "      <td>✔️ [True]</td>\n",
       "    </tr>\n",
       "    <tr>\n",
       "      <th>133</th>\n",
       "      <td>how could I set another shipping address up?</td>\n",
       "      <td>set_up_shipping_address</td>\n",
       "      <td>SHIPPING_ADDRESS</td>\n",
       "      <td>BIP</td>\n",
       "      <td>SHIPPING_ADDRESS</td>\n",
       "      <td>✔️ [True]</td>\n",
       "    </tr>\n",
       "    <tr>\n",
       "      <th>134</th>\n",
       "      <td>I do not know how I could set a new shipping address up</td>\n",
       "      <td>set_up_shipping_address</td>\n",
       "      <td>SHIPPING_ADDRESS</td>\n",
       "      <td>BEP</td>\n",
       "      <td>SHIPPING_ADDRESS</td>\n",
       "      <td>✔️ [True]</td>\n",
       "    </tr>\n",
       "  </tbody>\n",
       "</table>\n",
       "<p>135 rows × 6 columns</p>\n",
       "</div>"
      ],
      "text/plain": [
       "                                             customer_utterance  \\\n",
       "0                                             ohw can i sign up   \n",
       "1    I have got to create a different user account for my bride   \n",
       "2                              I want help to create an account   \n",
       "3                   I do not know how I could create an account   \n",
       "4        what do I need to do to create another online account?   \n",
       "..                                                          ...   \n",
       "130               I would like to set a new shipping address up   \n",
       "131                help setting up a different shipping address   \n",
       "132       I do not know how I can set a new shipping address up   \n",
       "133                how could I set another shipping address up?   \n",
       "134     I do not know how I could set a new shipping address up   \n",
       "\n",
       "               ticket_intent example_ticket_category   tags  \\\n",
       "0             create_account                 ACCOUNT  BILQZ   \n",
       "1             create_account                 ACCOUNT     BL   \n",
       "2             create_account                 ACCOUNT      B   \n",
       "3             create_account                 ACCOUNT    BEP   \n",
       "4             create_account                 ACCOUNT    BIL   \n",
       "..                       ...                     ...    ...   \n",
       "130  set_up_shipping_address        SHIPPING_ADDRESS     BP   \n",
       "131  set_up_shipping_address        SHIPPING_ADDRESS      B   \n",
       "132  set_up_shipping_address        SHIPPING_ADDRESS     BE   \n",
       "133  set_up_shipping_address        SHIPPING_ADDRESS    BIP   \n",
       "134  set_up_shipping_address        SHIPPING_ADDRESS    BEP   \n",
       "\n",
       "    pred_ticket_category evaluate_accuracy  \n",
       "0                ACCOUNT         ✔️ [True]  \n",
       "1                ACCOUNT         ✔️ [True]  \n",
       "2                ACCOUNT         ✔️ [True]  \n",
       "3                ACCOUNT         ✔️ [True]  \n",
       "4                ACCOUNT         ✔️ [True]  \n",
       "..                   ...               ...  \n",
       "130     SHIPPING_ADDRESS         ✔️ [True]  \n",
       "131     SHIPPING_ADDRESS         ✔️ [True]  \n",
       "132     SHIPPING_ADDRESS         ✔️ [True]  \n",
       "133     SHIPPING_ADDRESS         ✔️ [True]  \n",
       "134     SHIPPING_ADDRESS         ✔️ [True]  \n",
       "\n",
       "[135 rows x 6 columns]"
      ]
     },
     "metadata": {},
     "output_type": "display_data"
    },
    {
     "data": {
      "text/plain": [
       "EvaluationResult(score=94.81, results=<list of 135 results>)"
      ]
     },
     "execution_count": 43,
     "metadata": {},
     "output_type": "execute_result"
    }
   ],
   "source": [
    "simba = dspy.SIMBA(metric=evaluate_accuracy, max_steps=4, bsize=16)\n",
    "\n",
    "compiled_simba = simba.compile(predictor, trainset=train)\n",
    "\n",
    "evaluate(compiled_simba)"
   ]
  },
  {
   "cell_type": "code",
   "execution_count": null,
   "id": "4632043a",
   "metadata": {},
   "outputs": [
    {
     "name": "stdout",
     "output_type": "stream",
     "text": [
      "Average Metric: 128.00 / 135 (94.8%): 100%|██████████| 135/135 [00:16<00:00,  8.13it/s]"
     ]
    },
    {
     "name": "stderr",
     "output_type": "stream",
     "text": [
      "2025/07/15 22:49:16 INFO dspy.evaluate.evaluate: Average Metric: 128 / 135 (94.8%)\n"
     ]
    },
    {
     "name": "stdout",
     "output_type": "stream",
     "text": [
      "\n"
     ]
    },
    {
     "data": {
      "text/html": [
       "<div>\n",
       "<style scoped>\n",
       "    .dataframe tbody tr th:only-of-type {\n",
       "        vertical-align: middle;\n",
       "    }\n",
       "\n",
       "    .dataframe tbody tr th {\n",
       "        vertical-align: top;\n",
       "    }\n",
       "\n",
       "    .dataframe thead th {\n",
       "        text-align: right;\n",
       "    }\n",
       "</style>\n",
       "<table border=\"1\" class=\"dataframe\">\n",
       "  <thead>\n",
       "    <tr style=\"text-align: right;\">\n",
       "      <th></th>\n",
       "      <th>customer_utterance</th>\n",
       "      <th>ticket_intent</th>\n",
       "      <th>example_ticket_category</th>\n",
       "      <th>tags</th>\n",
       "      <th>reasoning</th>\n",
       "      <th>pred_ticket_category</th>\n",
       "      <th>evaluate_accuracy</th>\n",
       "    </tr>\n",
       "  </thead>\n",
       "  <tbody>\n",
       "    <tr>\n",
       "      <th>0</th>\n",
       "      <td>ohw can i sign up</td>\n",
       "      <td>create_account</td>\n",
       "      <td>ACCOUNT</td>\n",
       "      <td>BILQZ</td>\n",
       "      <td>The customer is asking about how to sign up, which relates to crea...</td>\n",
       "      <td>ACCOUNT</td>\n",
       "      <td>✔️ [True]</td>\n",
       "    </tr>\n",
       "    <tr>\n",
       "      <th>1</th>\n",
       "      <td>I have got to create a different user account for my bride</td>\n",
       "      <td>create_account</td>\n",
       "      <td>ACCOUNT</td>\n",
       "      <td>BL</td>\n",
       "      <td>The customer is requesting to create a new user account for someon...</td>\n",
       "      <td>ACCOUNT</td>\n",
       "      <td>✔️ [True]</td>\n",
       "    </tr>\n",
       "    <tr>\n",
       "      <th>2</th>\n",
       "      <td>I want help to create an account</td>\n",
       "      <td>create_account</td>\n",
       "      <td>ACCOUNT</td>\n",
       "      <td>B</td>\n",
       "      <td>The customer is requesting assistance with creating an account, wh...</td>\n",
       "      <td>ACCOUNT</td>\n",
       "      <td>✔️ [True]</td>\n",
       "    </tr>\n",
       "    <tr>\n",
       "      <th>3</th>\n",
       "      <td>I do not know how I could create an account</td>\n",
       "      <td>create_account</td>\n",
       "      <td>ACCOUNT</td>\n",
       "      <td>BEP</td>\n",
       "      <td>The customer is expressing difficulty with creating an account, wh...</td>\n",
       "      <td>ACCOUNT</td>\n",
       "      <td>✔️ [True]</td>\n",
       "    </tr>\n",
       "    <tr>\n",
       "      <th>4</th>\n",
       "      <td>what do I need to do to create another online account?</td>\n",
       "      <td>create_account</td>\n",
       "      <td>ACCOUNT</td>\n",
       "      <td>BIL</td>\n",
       "      <td>The customer is asking about the process to create a new online ac...</td>\n",
       "      <td>ACCOUNT</td>\n",
       "      <td>✔️ [True]</td>\n",
       "    </tr>\n",
       "    <tr>\n",
       "      <th>...</th>\n",
       "      <td>...</td>\n",
       "      <td>...</td>\n",
       "      <td>...</td>\n",
       "      <td>...</td>\n",
       "      <td>...</td>\n",
       "      <td>...</td>\n",
       "      <td>...</td>\n",
       "    </tr>\n",
       "    <tr>\n",
       "      <th>130</th>\n",
       "      <td>I would like to set a new shipping address up</td>\n",
       "      <td>set_up_shipping_address</td>\n",
       "      <td>SHIPPING_ADDRESS</td>\n",
       "      <td>BP</td>\n",
       "      <td>The customer wants to set up a new shipping address, which relates...</td>\n",
       "      <td>SHIPPING_ADDRESS</td>\n",
       "      <td>✔️ [True]</td>\n",
       "    </tr>\n",
       "    <tr>\n",
       "      <th>131</th>\n",
       "      <td>help setting up a different shipping address</td>\n",
       "      <td>set_up_shipping_address</td>\n",
       "      <td>SHIPPING_ADDRESS</td>\n",
       "      <td>B</td>\n",
       "      <td>The customer is requesting assistance with changing or setting up ...</td>\n",
       "      <td>SHIPPING_ADDRESS</td>\n",
       "      <td>✔️ [True]</td>\n",
       "    </tr>\n",
       "    <tr>\n",
       "      <th>132</th>\n",
       "      <td>I do not know how I can set a new shipping address up</td>\n",
       "      <td>set_up_shipping_address</td>\n",
       "      <td>SHIPPING_ADDRESS</td>\n",
       "      <td>BE</td>\n",
       "      <td>The customer is asking about how to set up a new shipping address,...</td>\n",
       "      <td>SHIPPING_ADDRESS</td>\n",
       "      <td>✔️ [True]</td>\n",
       "    </tr>\n",
       "    <tr>\n",
       "      <th>133</th>\n",
       "      <td>how could I set another shipping address up?</td>\n",
       "      <td>set_up_shipping_address</td>\n",
       "      <td>SHIPPING_ADDRESS</td>\n",
       "      <td>BIP</td>\n",
       "      <td>The customer is asking about setting up a new shipping address, wh...</td>\n",
       "      <td>SHIPPING_ADDRESS</td>\n",
       "      <td>✔️ [True]</td>\n",
       "    </tr>\n",
       "    <tr>\n",
       "      <th>134</th>\n",
       "      <td>I do not know how I could set a new shipping address up</td>\n",
       "      <td>set_up_shipping_address</td>\n",
       "      <td>SHIPPING_ADDRESS</td>\n",
       "      <td>BEP</td>\n",
       "      <td>The customer is asking about how to set up a new shipping address,...</td>\n",
       "      <td>SHIPPING_ADDRESS</td>\n",
       "      <td>✔️ [True]</td>\n",
       "    </tr>\n",
       "  </tbody>\n",
       "</table>\n",
       "<p>135 rows × 7 columns</p>\n",
       "</div>"
      ],
      "text/plain": [
       "                                             customer_utterance  \\\n",
       "0                                             ohw can i sign up   \n",
       "1    I have got to create a different user account for my bride   \n",
       "2                              I want help to create an account   \n",
       "3                   I do not know how I could create an account   \n",
       "4        what do I need to do to create another online account?   \n",
       "..                                                          ...   \n",
       "130               I would like to set a new shipping address up   \n",
       "131                help setting up a different shipping address   \n",
       "132       I do not know how I can set a new shipping address up   \n",
       "133                how could I set another shipping address up?   \n",
       "134     I do not know how I could set a new shipping address up   \n",
       "\n",
       "               ticket_intent example_ticket_category   tags  \\\n",
       "0             create_account                 ACCOUNT  BILQZ   \n",
       "1             create_account                 ACCOUNT     BL   \n",
       "2             create_account                 ACCOUNT      B   \n",
       "3             create_account                 ACCOUNT    BEP   \n",
       "4             create_account                 ACCOUNT    BIL   \n",
       "..                       ...                     ...    ...   \n",
       "130  set_up_shipping_address        SHIPPING_ADDRESS     BP   \n",
       "131  set_up_shipping_address        SHIPPING_ADDRESS      B   \n",
       "132  set_up_shipping_address        SHIPPING_ADDRESS     BE   \n",
       "133  set_up_shipping_address        SHIPPING_ADDRESS    BIP   \n",
       "134  set_up_shipping_address        SHIPPING_ADDRESS    BEP   \n",
       "\n",
       "                                                                 reasoning  \\\n",
       "0    The customer is asking about how to sign up, which relates to crea...   \n",
       "1    The customer is requesting to create a new user account for someon...   \n",
       "2    The customer is requesting assistance with creating an account, wh...   \n",
       "3    The customer is expressing difficulty with creating an account, wh...   \n",
       "4    The customer is asking about the process to create a new online ac...   \n",
       "..                                                                     ...   \n",
       "130  The customer wants to set up a new shipping address, which relates...   \n",
       "131  The customer is requesting assistance with changing or setting up ...   \n",
       "132  The customer is asking about how to set up a new shipping address,...   \n",
       "133  The customer is asking about setting up a new shipping address, wh...   \n",
       "134  The customer is asking about how to set up a new shipping address,...   \n",
       "\n",
       "    pred_ticket_category evaluate_accuracy  \n",
       "0                ACCOUNT         ✔️ [True]  \n",
       "1                ACCOUNT         ✔️ [True]  \n",
       "2                ACCOUNT         ✔️ [True]  \n",
       "3                ACCOUNT         ✔️ [True]  \n",
       "4                ACCOUNT         ✔️ [True]  \n",
       "..                   ...               ...  \n",
       "130     SHIPPING_ADDRESS         ✔️ [True]  \n",
       "131     SHIPPING_ADDRESS         ✔️ [True]  \n",
       "132     SHIPPING_ADDRESS         ✔️ [True]  \n",
       "133     SHIPPING_ADDRESS         ✔️ [True]  \n",
       "134     SHIPPING_ADDRESS         ✔️ [True]  \n",
       "\n",
       "[135 rows x 7 columns]"
      ]
     },
     "metadata": {},
     "output_type": "display_data"
    }
   ],
   "source": [
    "chain = dspy.ChainOfThought(SupportCaseRouter)\n",
    "\n",
    "ans = evaluate(chain)"
   ]
  }
 ],
 "metadata": {
  "kernelspec": {
   "display_name": "dspy-demo",
   "language": "python",
   "name": "python3"
  },
  "language_info": {
   "codemirror_mode": {
    "name": "ipython",
    "version": 3
   },
   "file_extension": ".py",
   "mimetype": "text/x-python",
   "name": "python",
   "nbconvert_exporter": "python",
   "pygments_lexer": "ipython3",
   "version": "3.12.8"
  }
 },
 "nbformat": 4,
 "nbformat_minor": 5
}
