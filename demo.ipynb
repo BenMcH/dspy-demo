{
 "cells": [
  {
   "cell_type": "code",
   "execution_count": null,
   "id": "af4be725",
   "metadata": {},
   "outputs": [],
   "source": [
    "from phoenix.otel import register\n",
    "\n",
    "register(\n",
    "\tproject_name=\"dspy-demo\",\n",
    "\tendpoint=\"http://localhost:6006/v1/traces\",\n",
    "\tverbose=False,\n",
    "    auto_instrument=True,\n",
    ")"
   ]
  },
  {
   "cell_type": "code",
   "execution_count": null,
   "id": "04d23931",
   "metadata": {},
   "outputs": [],
   "source": [
    "import dspy\n",
    "\n",
    "openai = dspy.LM(\"openai/gpt-4.1-nano\", cache=False)\n",
    "dspy.configure(lm=openai)"
   ]
  },
  {
   "cell_type": "markdown",
   "id": "9b56e09e",
   "metadata": {},
   "source": [
    "# Signatures\n",
    "\n",
    "Signatures in DSPy serve the same purpose as a function signature in Python. They define the inputs and outputs of a DSPy module, allowing DSPy to understand what to expect and what to produce. Signatures are used to validate the inputs and outputs of a module, ensuring that they conform to the expected types and formats."
   ]
  },
  {
   "cell_type": "code",
   "execution_count": null,
   "id": "589c0474",
   "metadata": {},
   "outputs": [],
   "source": [
    "simple_signature = dspy.Signature(\"question -> answer\")\n",
    "predictor = dspy.Predict(simple_signature)\n",
    "\n",
    "predictor(question=\"When did Iowa become a state?\")"
   ]
  },
  {
   "cell_type": "code",
   "execution_count": null,
   "id": "26171c3f",
   "metadata": {},
   "outputs": [],
   "source": [
    "typed_signature = dspy.Signature(\"question: str -> answer: str\")\n",
    "typed_predictor = dspy.Predict(typed_signature)\n",
    "\n",
    "typed_predictor(question=\"When were fireworks invented?\")"
   ]
  },
  {
   "cell_type": "code",
   "execution_count": null,
   "id": "5f112d84",
   "metadata": {},
   "outputs": [],
   "source": [
    "from typing import Optional\n",
    "\n",
    "class ClassSignature(dspy.Signature):\n",
    "\t\"\"\"\n",
    "\tAnswers a question based on the provided input.\n",
    "\t\"\"\"\n",
    "\n",
    "\tquestion: str = dspy.InputField()\n",
    "\tcontexts: Optional[list[str]] = dspy.InputField(desc=\"List of contexts to answer the question from.\")\n",
    "\tanswer: str = dspy.OutputField(desc=\"Answer to the question, which is succinct and provides no additional information or preamble.\")\n",
    "\n",
    "class_predictor = dspy.Predict(ClassSignature)\n",
    "\n",
    "class_predictor(question=\"What is DSPy?\", contexts=None)"
   ]
  },
  {
   "cell_type": "code",
   "execution_count": null,
   "id": "b0dd87bb",
   "metadata": {},
   "outputs": [],
   "source": [
    "class_predictor(question=\"What is DSPy?\", contexts=[\n",
    "    \"\"\"DSPy is a declarative framework for building modular AI software. It allows you to iterate fast on structured code, rather than brittle strings, and offers algorithms that compile AI programs into effective prompts and weights for your language models, whether you're building simple classifiers, sophisticated RAG pipelines, or Agent loops.\n",
    "\n",
    "\tInstead of wrangling prompts or training jobs, DSPy (Declarative Self-improving Python) enables you to build AI software from natural-language modules and to generically compose them with different models, inference strategies, or learning algorithms. This makes AI software more reliable, maintainable, and portable across models and strategies.\"\"\"\n",
    "])"
   ]
  },
  {
   "cell_type": "markdown",
   "id": "badd6693",
   "metadata": {},
   "source": [
    "# Modules\n",
    "\n",
    "Modules are used in DSPy to define structure to an AI program. They are the building blocks of DSPy programming and there are several built-in modules that can be leveraged.\n",
    "\n",
    "* dspy.Predict: Standard zero-shot prediction module.\n",
    "* dspy.ChainOfThought: Chain of thought module that allows for reasoning over multiple steps.\n",
    "* dspy.ReAct: ReAct module that allows for reasoning and action-taking (tool calling).\n",
    "* dspy.ProgramOfThought: A DSPy module that runs Python programs to solve a problem.\n",
    "* More modules can be found in the [DSPy documentation](https://dspy.ai/api/modules/Module/)."
   ]
  },
  {
   "cell_type": "code",
   "execution_count": null,
   "id": "58fcab7f",
   "metadata": {},
   "outputs": [],
   "source": [
    "chain_of_thought = dspy.ChainOfThought(typed_signature)\n",
    "\n",
    "print(\"Basic prediction:\", predictor(question=\"How many r's are in the word strawberry?\").answer)\n",
    "\n",
    "chain_of_thought(question=\"How many r's are in the word strawberry?\")"
   ]
  },
  {
   "cell_type": "code",
   "execution_count": null,
   "id": "db281688",
   "metadata": {},
   "outputs": [],
   "source": [
    "import operator\n",
    "from typing import Literal\n",
    "\n",
    "OPERATORS = {\n",
    "    '+': operator.add,\n",
    "    '*': operator.mul,\n",
    "    '-': operator.sub,\n",
    "    '/': operator.truediv,\n",
    "    '^': operator.pow,\n",
    "}\n",
    "\n",
    "@dspy.Tool\n",
    "def do_math(x: float, y: float, operation: Literal['+', '*', '-', '/', '^']) -> float:\n",
    "\t\"\"\"\n",
    "\tPerforms a mathematical operation on two numbers.\n",
    "\t\"\"\"\n",
    "\ttry:\n",
    "\t\treturn OPERATORS[operation](x, y)\n",
    "\texcept KeyError:\n",
    "\t\traise ValueError(f\"Invalid operation. Supported operations are: {', '.join(OPERATORS)}\")\n",
    "\n",
    "math_signature = dspy.Signature(\"question -> answer: float\")\n",
    "\n",
    "math_agent = dspy.ReAct(\n",
    "\tmath_signature,\n",
    "\ttools=[do_math],\n",
    ")"
   ]
  },
  {
   "cell_type": "code",
   "execution_count": null,
   "id": "26379b15",
   "metadata": {},
   "outputs": [],
   "source": [
    "from pprint import pprint\n",
    "math_response = math_agent(question=\"Raise the largest prime number less than 100 to the power of 2.\")\n",
    "\n",
    "print(\"Trajectory\")\n",
    "pprint(math_response.trajectory)\n",
    "print(\"reasoning:\", math_response.reasoning)\n",
    "print(\"answer:\", math_response.answer)"
   ]
  },
  {
   "cell_type": "markdown",
   "id": "d1e59f0a",
   "metadata": {},
   "source": [
    "# MCP\n",
    "\n",
    "Model context protocol is everywhere in 2025 and DSPy natively supports it! Let's see a demo of an MCP server that allows an AI to control my home."
   ]
  },
  {
   "cell_type": "code",
   "execution_count": null,
   "id": "73cad2e5",
   "metadata": {},
   "outputs": [],
   "source": [
    "from mcp import ClientSession, StdioServerParameters\n",
    "from mcp.client.stdio import stdio_client\n",
    "import os\n",
    "from dotenv import load_dotenv\n",
    "import dspy\n",
    "\n",
    "load_dotenv()\n",
    "\n",
    "openai = dspy.LM(\"openai/gpt-4.1-mini\", cache=False)\n",
    "dspy.configure(lm=openai)\n",
    "\n",
    "\n",
    "server_params = StdioServerParameters(\n",
    "    command=\"docker\",\n",
    "    args=[\"run\",\n",
    "          \"-i\",\n",
    "          \"--rm\",\n",
    "          \"-e\",\n",
    "          \"HA_URL\",\n",
    "          \"-e\",\n",
    "          \"HA_TOKEN\",\n",
    "          \"voska/hass-mcp\"],\n",
    "    env={\n",
    "\t\t\"HA_URL\": os.environ[\"HA_URL\"],\n",
    "\t\t\"HA_TOKEN\": os.environ[\"HA_TOKEN\"],\n",
    "    },\n",
    ")\n",
    "\n",
    "class HomeAssistantSignature(dspy.Signature):\n",
    "    \"\"\"\n",
    "    Useful entities in the Home Assistant system:\n",
    "    Family room lamps = switch.lamps\n",
    "    Thermostat = climate.family_room\n",
    "\n",
    "    TrueNAS / NAS is a custom integration. main_pool is the hard drive pool and speedy_boy is the ssd pool for VMs \n",
    "    \n",
    "    Temperatures should be in Fahrenheit unless they are computer temperatures.\n",
    "    \"\"\"\n",
    "\n",
    "    question: str = dspy.InputField()\n",
    "    answer: str = dspy.OutputField(desc=\"A succinct answer to the question or the result of the action taken.\")\n",
    "\n",
    "\n",
    "async with stdio_client(server_params) as (read, write):\n",
    "    async with ClientSession(read, write) as session:\n",
    "        await session.initialize()\n",
    "        tools = await session.list_tools()\n",
    "\n",
    "        dspy_tools = [dspy.Tool.from_mcp_tool(session, tool) for tool in tools.tools]\n",
    "\n",
    "        agent = dspy.ReAct(HomeAssistantSignature, tools=dspy_tools,)\n",
    "\n",
    "        history = dspy.History(messages=[])\n",
    "\n",
    "        while (question := input(\"You: \")) != \"exit\":\n",
    "\n",
    "            response = await agent.acall(question=question, history=history)\n",
    "\n",
    "            print(\"Agent:\", response.answer, flush=True)\n",
    "\n",
    "            history.messages.append({\"question\": question, \"answer\": response.answer})"
   ]
  }
 ],
 "metadata": {
  "kernelspec": {
   "display_name": "dspy-demo",
   "language": "python",
   "name": "python3"
  },
  "language_info": {
   "codemirror_mode": {
    "name": "ipython",
    "version": 3
   },
   "file_extension": ".py",
   "mimetype": "text/x-python",
   "name": "python",
   "nbconvert_exporter": "python",
   "pygments_lexer": "ipython3",
   "version": "3.12.7"
  }
 },
 "nbformat": 4,
 "nbformat_minor": 5
}
