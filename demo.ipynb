{
 "cells": [
  {
   "cell_type": "code",
   "execution_count": 6,
   "id": "04d23931",
   "metadata": {},
   "outputs": [],
   "source": [
    "import dspy\n",
    "\n",
    "openai = dspy.LM(\"openai/gpt-4.1-nano\", cache=False)\n",
    "dspy.configure(lm=openai)"
   ]
  },
  {
   "cell_type": "code",
   "execution_count": 8,
   "id": "af4be725",
   "metadata": {},
   "outputs": [
    {
     "name": "stderr",
     "output_type": "stream",
     "text": [
      "Overriding of current TracerProvider is not allowed\n"
     ]
    }
   ],
   "source": [
    "from phoenix.otel import register\n",
    "from openinference.instrumentation.dspy import DSPyInstrumentor\n",
    "\n",
    "register(\n",
    "\tproject_name=\"dspy-demo\",\n",
    "\tendpoint=\"http://localhost:6006/v1/traces\",\n",
    "\tverbose=False\n",
    ")\n",
    "\n",
    "DSPyInstrumentor().instrument(skip_dep_check=True)"
   ]
  },
  {
   "cell_type": "markdown",
   "id": "9b56e09e",
   "metadata": {},
   "source": [
    "# Signatures\n",
    "\n",
    "Signatures in DSPy serve the same purpose as a function signature in Python. They define the inputs and outputs of a DSPy module, allowing DSPy to understand what to expect and what to produce. Signatures are used to validate the inputs and outputs of a module, ensuring that they conform to the expected types and formats."
   ]
  },
  {
   "cell_type": "code",
   "execution_count": 9,
   "id": "9d1ad925",
   "metadata": {},
   "outputs": [],
   "source": [
    "from typing import Optional\n",
    "\n",
    "simple_signature = dspy.Signature(\"question -> answer\")\n",
    "typed_signature = dspy.Signature(\"question: str -> answer: str\")\n"
   ]
  },
  {
   "cell_type": "code",
   "execution_count": 10,
   "id": "589c0474",
   "metadata": {},
   "outputs": [
    {
     "data": {
      "text/plain": [
       "Prediction(\n",
       "    answer='Iowa became a state on December 28, 1846.'\n",
       ")"
      ]
     },
     "execution_count": 10,
     "metadata": {},
     "output_type": "execute_result"
    }
   ],
   "source": [
    "predictor = dspy.Predict(simple_signature)\n",
    "\n",
    "predictor(question=\"When did Iowa become a state?\")"
   ]
  },
  {
   "cell_type": "code",
   "execution_count": 11,
   "id": "26171c3f",
   "metadata": {},
   "outputs": [
    {
     "data": {
      "text/plain": [
       "Prediction(\n",
       "    answer='Fireworks were invented in China around the 7th century during the Tang Dynasty, with their use becoming more widespread in the following centuries.'\n",
       ")"
      ]
     },
     "execution_count": 11,
     "metadata": {},
     "output_type": "execute_result"
    }
   ],
   "source": [
    "typed_predictor = dspy.Predict(typed_signature)\n",
    "\n",
    "typed_predictor(question=\"When were fireworks invented?\")"
   ]
  },
  {
   "cell_type": "code",
   "execution_count": 6,
   "id": "5f112d84",
   "metadata": {},
   "outputs": [
    {
     "data": {
      "text/plain": [
       "Prediction(\n",
       "    answer='DSPy is a Python library designed for digital signal processing tasks, providing tools for analyzing, filtering, and manipulating signals efficiently.'\n",
       ")"
      ]
     },
     "execution_count": 6,
     "metadata": {},
     "output_type": "execute_result"
    }
   ],
   "source": [
    "class ClassSignature(dspy.Signature):\n",
    "\t\"\"\"\n",
    "\tAnswers a question based on the provided input.\n",
    "\t\"\"\"\n",
    "\n",
    "\tquestion: str = dspy.InputField()\n",
    "\tcontexts: Optional[list[str]] = dspy.InputField(desc=\"List of contexts to answer the question from.\")\n",
    "\tanswer: str = dspy.OutputField(desc=\"Answer to the question, which is succinct and provides no additional information or preamble.\")\n",
    "\n",
    "class_predictor = dspy.Predict(ClassSignature)\n",
    "\n",
    "class_predictor(question=\"What is DSPy?\", contexts=None)"
   ]
  },
  {
   "cell_type": "code",
   "execution_count": null,
   "id": "b0dd87bb",
   "metadata": {},
   "outputs": [
    {
     "data": {
      "text/plain": [
       "Prediction(\n",
       "    answer='DSPy is a declarative framework for building modular AI software that allows for fast iteration on structured code and compiles AI programs into effective prompts and weights for language models.'\n",
       ")"
      ]
     },
     "execution_count": 42,
     "metadata": {},
     "output_type": "execute_result"
    }
   ],
   "source": [
    "class_predictor(question=\"What is DSPy?\", contexts=[\n",
    "    \"\"\"DSPy is a declarative framework for building modular AI software. It allows you to iterate fast on structured code, rather than brittle strings, and offers algorithms that compile AI programs into effective prompts and weights for your language models, whether you're building simple classifiers, sophisticated RAG pipelines, or Agent loops.\n",
    "\n",
    "\tInstead of wrangling prompts or training jobs, DSPy (Declarative Self-improving Python) enables you to build AI software from natural-language modules and to generically compose them with different models, inference strategies, or learning algorithms. This makes AI software more reliable, maintainable, and portable across models and strategies.\"\"\"\n",
    "])"
   ]
  },
  {
   "cell_type": "markdown",
   "id": "badd6693",
   "metadata": {},
   "source": [
    "# Modules\n",
    "\n",
    "Modules are used in DSPy to define structure to an AI program. They are the building blocks of DSPy programming and there are several built-in modules that can be leveraged.\n",
    "\n",
    "* dspy.Predict: Standard zero-shot prediction module.\n",
    "* dspy.ChainOfThought: Chain of thought module that allows for reasoning over multiple steps.\n",
    "* dspy.ReAct: ReAct module that allows for reasoning and action-taking (tool calling).\n",
    "* dspy.ProgramOfThought: A DSPy module that runs Python programs to solve a problem.\n",
    "* More modules can be found in the [DSPy documentation](https://dspy.ai/api/modules/Module/)."
   ]
  },
  {
   "cell_type": "code",
   "execution_count": 40,
   "id": "58fcab7f",
   "metadata": {},
   "outputs": [
    {
     "name": "stdout",
     "output_type": "stream",
     "text": [
      "Basic prediction: There are 2 r's in the word strawberry.\n"
     ]
    },
    {
     "data": {
      "text/plain": [
       "Prediction(\n",
       "    reasoning='The word \"strawberry\" consists of the letters s, t, r, a, w, b, e, r, r, y. Counting the number of \\'r\\'s in this word, we find there are three: one in the third position, and two more towards the end.',\n",
       "    answer=\"There are 3 r's in the word strawberry.\"\n",
       ")"
      ]
     },
     "execution_count": 40,
     "metadata": {},
     "output_type": "execute_result"
    }
   ],
   "source": [
    "chain_of_thought = dspy.ChainOfThought(typed_signature)\n",
    "\n",
    "print(\"Basic prediction:\", predictor(question=\"How many r's are in the word strawberry?\").answer)\n",
    "\n",
    "chain_of_thought(question=\"How many r's are in the word strawberry?\")"
   ]
  },
  {
   "cell_type": "code",
   "execution_count": null,
   "id": "db281688",
   "metadata": {},
   "outputs": [],
   "source": [
    "from typing import Literal\n",
    "\n",
    "@dspy.Tool\n",
    "def do_math(x: float, y: float, operation: Literal['+', '-', '*', '/', '^']) -> float:\n",
    "\t\"\"\"\n",
    "\tPerforms a mathematical operation on two numbers.\n",
    "\t\"\"\"\n",
    "\tif operation == '+':\n",
    "\t\treturn x + y\n",
    "\telif operation == '-':\n",
    "\t\treturn x - y\n",
    "\telif operation == '*':\n",
    "\t\treturn x * y\n",
    "\telif operation == '/':\n",
    "\t\treturn x / y\n",
    "\telif operation == '^':\n",
    "\t\treturn x ** y\n",
    "\telse:\n",
    "\t\traise ValueError(\"Invalid operation. Supported operations are: '+', '-', '*', '/', '^'.\")\n",
    "\n",
    "math_signature = dspy.Signature(\"question -> answer: float\")\n",
    "\n",
    "math_agent = dspy.ReAct(\n",
    "\tmath_signature,\n",
    "\ttools=[do_math],\n",
    ")"
   ]
  },
  {
   "cell_type": "code",
   "execution_count": 34,
   "id": "26379b15",
   "metadata": {},
   "outputs": [
    {
     "name": "stdout",
     "output_type": "stream",
     "text": [
      "Trajectory\n",
      "{'observation_0': 9409.0,\n",
      " 'observation_1': 'Completed.',\n",
      " 'thought_0': 'The largest prime number less than 100 is 97. I need to '\n",
      "              'calculate 97 raised to the power of 2.',\n",
      " 'thought_1': 'The calculation of 97 raised to the power of 2 has been '\n",
      "              'completed, resulting in 9409. Therefore, I can now conclude the '\n",
      "              'task and produce the answer.',\n",
      " 'tool_args_0': {'operation': '^', 'x': 97, 'y': 2},\n",
      " 'tool_args_1': {},\n",
      " 'tool_name_0': 'do_math',\n",
      " 'tool_name_1': 'finish'}\n",
      "reasoning: The largest prime number less than 100 is 97. Raising 97 to the power of 2 involves calculating 97 squared, which equals 9409. This calculation has been confirmed in the previous step, so the answer is 9409.0.\n",
      "answer: 9409.0\n"
     ]
    }
   ],
   "source": [
    "from pprint import pprint\n",
    "math_response = math_agent(question=\"Raise the largest prime number less than 100 to the power of 2.\")\n",
    "\n",
    "print(\"Trajectory\")\n",
    "pprint(math_response.trajectory)\n",
    "print(\"reasoning:\", math_response.reasoning)\n",
    "print(\"answer:\", math_response.answer)"
   ]
  },
  {
   "cell_type": "markdown",
   "id": "d1e59f0a",
   "metadata": {},
   "source": [
    "# MCP\n",
    "\n",
    "Model context protocol is everywhere in 2025 and DSPy natively supports it! Let's see a demo of an MCP server that allows an AI to control my home."
   ]
  },
  {
   "cell_type": "code",
   "execution_count": 13,
   "id": "73cad2e5",
   "metadata": {},
   "outputs": [
    {
     "name": "stdout",
     "output_type": "stream",
     "text": [
      "Agent: The temperature in here is approximately 68.4°F.\n",
      "Agent: Your NAS (TrueNAS) is currently operating normally. Its temperature is 36.33°C, CPU load is low, and memory usage is at 87%. The main dataset size is approximately 2958.68 GB, indicating active storage.\n",
      "Agent: You have approximately 10.44 GB of free memory.\n"
     ]
    }
   ],
   "source": [
    "from mcp import ClientSession, StdioServerParameters\n",
    "from mcp.client.stdio import stdio_client\n",
    "import os\n",
    "from dotenv import load_dotenv\n",
    "\n",
    "load_dotenv()\n",
    "\n",
    "server_params = StdioServerParameters(\n",
    "    command=\"docker\",\n",
    "    args=[\"run\",\n",
    "          \"-i\",\n",
    "          \"--rm\",\n",
    "          \"-e\",\n",
    "          \"HA_URL\",\n",
    "          \"-e\",\n",
    "          \"HA_TOKEN\",\n",
    "          \"voska/hass-mcp\"],\n",
    "    env={\n",
    "\t\t\"HA_URL\": os.environ[\"HA_URL\"],\n",
    "\t\t\"HA_TOKEN\": os.environ[\"HA_TOKEN\"],\n",
    "    },\n",
    ")\n",
    "\n",
    "class HomeAssistantSignature(dspy.Signature):\n",
    "    \"\"\"\n",
    "    Interact with home assistant and answer questions or control the system.\n",
    "    The family room lamps are a switch, not a light.\n",
    "    Temperatures should be in Fahrenheit unless they are computer temperatures.\n",
    "    \"\"\"\n",
    "\n",
    "    question: str = dspy.InputField()\n",
    "    answer: str = dspy.OutputField(desc=\"A succinct answer to the question or the result of the action taken.\")\n",
    "\n",
    "\n",
    "async with stdio_client(server_params) as (read, write):\n",
    "    async with ClientSession(read, write) as session:\n",
    "        await session.initialize()\n",
    "        tools = await session.list_tools()\n",
    "\n",
    "        dspy_tools = [dspy.Tool.from_mcp_tool(session, tool) for tool in tools.tools]\n",
    "\n",
    "        agent = dspy.ReAct(HomeAssistantSignature, tools=dspy_tools,)\n",
    "\n",
    "        history = dspy.History(messages=[])\n",
    "\n",
    "        while (question := input(\"You: \")) != \"exit\":\n",
    "\n",
    "            response = await agent.acall(question=question, history=history)\n",
    "\n",
    "            print(\"Agent:\", response.answer, flush=True)\n",
    "\n",
    "            history.messages.append({\"question\": question, \"answer\": response.answer})"
   ]
  }
 ],
 "metadata": {
  "kernelspec": {
   "display_name": "dspy-demo",
   "language": "python",
   "name": "python3"
  },
  "language_info": {
   "codemirror_mode": {
    "name": "ipython",
    "version": 3
   },
   "file_extension": ".py",
   "mimetype": "text/x-python",
   "name": "python",
   "nbconvert_exporter": "python",
   "pygments_lexer": "ipython3",
   "version": "3.12.8"
  }
 },
 "nbformat": 4,
 "nbformat_minor": 5
}
